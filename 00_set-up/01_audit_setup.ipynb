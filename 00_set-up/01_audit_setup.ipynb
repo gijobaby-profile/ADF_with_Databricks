{
 "cells": [
  {
   "cell_type": "code",
   "execution_count": 0,
   "metadata": {
    "application/vnd.databricks.v1+cell": {
     "cellMetadata": {
      "byteLimit": 2048000,
      "rowLimit": 10000
     },
     "inputWidgets": {},
     "nuid": "84b32ea0-b39d-408c-9bf0-d11460171b86",
     "showTitle": false,
     "tableResultSettingsMap": {},
     "title": ""
    }
   },
   "outputs": [],
   "source": [
    "CREATE CATALOG IF NOT EXISTS adf_adb_audit\n",
    "MANAGED LOCATION 'abfss://gizmoboxadb@gijodatabricksextdl.dfs.core.windows.net/adf_adb_audit/';"
   ]
  },
  {
   "cell_type": "code",
   "execution_count": 0,
   "metadata": {
    "application/vnd.databricks.v1+cell": {
     "cellMetadata": {
      "byteLimit": 2048000,
      "rowLimit": 10000
     },
     "inputWidgets": {},
     "nuid": "c6f67ff9-c8a3-4e10-9205-5c6118bc60bd",
     "showTitle": false,
     "tableResultSettingsMap": {},
     "title": ""
    }
   },
   "outputs": [],
   "source": [
    "USE CATALOG adf_adb_audit;\n",
    "\n",
    "CREATE SCHEMA IF NOT EXISTS audit\n",
    "MANAGED LOCATION 'abfss://gizmoboxadb@gijodatabricksextdl.dfs.core.windows.net/adf_adb_audit/audit';"
   ]
  },
  {
   "cell_type": "code",
   "execution_count": 0,
   "metadata": {
    "application/vnd.databricks.v1+cell": {
     "cellMetadata": {
      "byteLimit": 2048000,
      "rowLimit": 10000
     },
     "inputWidgets": {},
     "nuid": "f7144158-72db-4402-8cba-e0c41641a2a6",
     "showTitle": false,
     "tableResultSettingsMap": {},
     "title": ""
    }
   },
   "outputs": [],
   "source": [
    "\n",
    "CREATE TABLE IF NOT EXISTS adf_adb_audit.audit.pipeline_audit (\n",
    "  environment       STRING,         -- dev | uat | prod\n",
    "  job_id            STRING,\n",
    "  job_name          STRING NOT NULL,\n",
    "  run_id            STRING NOT NULL,\n",
    "  triggered_by      STRING,         -- schedule | manual | unknown\n",
    "  target_table      STRING,         -- <catalog>.<schema>.<table>\n",
    "  layer             STRING,         -- derived from target_table's <schema> (e.g., bronze/silver/gold)\n",
    "  start_time_utc    TIMESTAMP,\n",
    "  end_time_utc      TIMESTAMP,\n",
    "  duration_ms       BIGINT,\n",
    "  record_count      BIGINT,\n",
    "  run_status        STRING,         -- RUNNING | SUCCESS | FAILED | SKIPPED\n",
    "  retry_of_run_id   STRING,\n",
    "  audit_date        DATE\n",
    ")\n",
    "USING DELTA\n",
    "PARTITIONED BY (audit_date);"
   ]
  }
 ],
 "metadata": {
  "application/vnd.databricks.v1+notebook": {
   "computePreferences": null,
   "dashboards": [],
   "environmentMetadata": {
    "base_environment": "",
    "environment_version": "2"
   },
   "inputWidgetPreferences": null,
   "language": "sql",
   "notebookMetadata": {
    "pythonIndentUnit": 4
   },
   "notebookName": "01_audit_setup",
   "widgets": {}
  },
  "language_info": {
   "name": "sql"
  }
 },
 "nbformat": 4,
 "nbformat_minor": 0
}
