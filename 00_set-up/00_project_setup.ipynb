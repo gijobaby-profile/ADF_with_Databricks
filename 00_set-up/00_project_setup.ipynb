{
 "cells": [
  {
   "cell_type": "markdown",
   "metadata": {
    "application/vnd.databricks.v1+cell": {
     "cellMetadata": {
      "byteLimit": 2048000,
      "rowLimit": 10000
     },
     "inputWidgets": {},
     "nuid": "cf54e48d-9092-46f6-8f1f-39e6836995c3",
     "showTitle": false,
     "tableResultSettingsMap": {},
     "title": ""
    }
   },
   "source": [
    "# Project Setup\n",
    "Step 1 : Create storage credential   \n",
    "Step 2 : Create External Location   \n",
    "step 3 : Create a CATALOG   \n",
    "step 4 : Create SCHEMA   \n",
    "step 5 : Create External VOLUME   "
   ]
  },
  {
   "cell_type": "markdown",
   "metadata": {
    "application/vnd.databricks.v1+cell": {
     "cellMetadata": {
      "byteLimit": 2048000,
      "rowLimit": 10000
     },
     "inputWidgets": {},
     "nuid": "4886a313-d0fa-4080-a710-4aef76a73cda",
     "showTitle": false,
     "tableResultSettingsMap": {},
     "title": ""
    }
   },
   "source": [
    "#### step 1 : Create a Storage Credential \n",
    "Note : Storage Credential Name = adf_with_databricks_ext_sc\n",
    "\n"
   ]
  },
  {
   "cell_type": "markdown",
   "metadata": {
    "application/vnd.databricks.v1+cell": {
     "cellMetadata": {
      "byteLimit": 2048000,
      "rowLimit": 10000
     },
     "inputWidgets": {},
     "nuid": "286300cd-6cae-4303-b1f0-67baeba47b95",
     "showTitle": false,
     "tableResultSettingsMap": {},
     "title": ""
    }
   },
   "source": [
    "#### step 2 : Create External Location   \n"
   ]
  },
  {
   "cell_type": "code",
   "execution_count": 0,
   "metadata": {
    "application/vnd.databricks.v1+cell": {
     "cellMetadata": {
      "byteLimit": 2048000,
      "rowLimit": 10000
     },
     "inputWidgets": {},
     "nuid": "ff795633-0bce-479d-a03d-95a06441bed3",
     "showTitle": false,
     "tableResultSettingsMap": {},
     "title": ""
    }
   },
   "outputs": [],
   "source": [
    "CREATE EXTERNAL LOCATION IF NOT EXISTS `gijodatabricksextdl_adf`\n",
    "URL 'abfss://gizmoboxadb@gijodatabricksextdl.dfs.core.windows.net/'\n",
    "WITH (STORAGE CREDENTIAL `adf_with_databricks_ext_sc`)\n",
    "COMMENT 'External locaton for gizmoboxadb container in gijodatabricksextdl datalake ';\n"
   ]
  },
  {
   "cell_type": "markdown",
   "metadata": {
    "application/vnd.databricks.v1+cell": {
     "cellMetadata": {
      "byteLimit": 2048000,
      "rowLimit": 10000
     },
     "inputWidgets": {},
     "nuid": "5ad1449d-ad5b-4a0a-b132-8864cad3b564",
     "showTitle": false,
     "tableResultSettingsMap": {},
     "title": ""
    }
   },
   "source": [
    "#### step 3 : Create a CATALOG   \n"
   ]
  },
  {
   "cell_type": "code",
   "execution_count": 0,
   "metadata": {
    "application/vnd.databricks.v1+cell": {
     "cellMetadata": {
      "byteLimit": 2048000,
      "rowLimit": 10000
     },
     "inputWidgets": {},
     "nuid": "20f0aab9-a98c-417a-9885-01d0c5e3fc8e",
     "showTitle": false,
     "tableResultSettingsMap": {},
     "title": ""
    }
   },
   "outputs": [],
   "source": [
    "CREATE CATALOG adf_adb_landing\n",
    "MANAGED LOCATION 'abfss://gizmoboxadb@gijodatabricksextdl.dfs.core.windows.net/landing/'\n",
    "COMMENT 'External locaton for gizmoboxadb/landing in gijodatabricksextdl datalake ';\n",
    "\n",
    "\n",
    "CREATE CATALOG adf_adb_bronze\n",
    "MANAGED LOCATION 'abfss://gizmoboxadb@gijodatabricksextdl.dfs.core.windows.net/bronze/'\n",
    "COMMENT 'External locaton for gizmoboxadb/bronze in gijodatabricksextdl datalake ';\n",
    "\n",
    "\n",
    "CREATE CATALOG adf_adb_silver\n",
    "MANAGED LOCATION 'abfss://gizmoboxadb@gijodatabricksextdl.dfs.core.windows.net/silver/'\n",
    "COMMENT 'External locaton for gizmoboxadb/silver in gijodatabricksextdl datalake ';\n",
    "\n",
    "\n",
    "CREATE CATALOG adf_adb_gold\n",
    "MANAGED LOCATION 'abfss://gizmoboxadb@gijodatabricksextdl.dfs.core.windows.net/gold/'\n",
    "COMMENT 'External locaton for gizmoboxadb/gold in gijodatabricksextdl datalake ';"
   ]
  },
  {
   "cell_type": "markdown",
   "metadata": {
    "application/vnd.databricks.v1+cell": {
     "cellMetadata": {
      "byteLimit": 2048000,
      "rowLimit": 10000
     },
     "inputWidgets": {},
     "nuid": "1ce42962-18ab-4f98-b987-a16241fe26f5",
     "showTitle": false,
     "tableResultSettingsMap": {},
     "title": ""
    }
   },
   "source": [
    "#### step 4 : Create SCHEMA   \n"
   ]
  },
  {
   "cell_type": "code",
   "execution_count": 0,
   "metadata": {
    "application/vnd.databricks.v1+cell": {
     "cellMetadata": {
      "byteLimit": 2048000,
      "rowLimit": 10000
     },
     "inputWidgets": {},
     "nuid": "cb436d1e-7e84-4c77-9cd8-fe8f03c99789",
     "showTitle": false,
     "tableResultSettingsMap": {},
     "title": ""
    }
   },
   "outputs": [],
   "source": [
    "USE CATALOG adf_adb_landing;\n",
    "\n",
    "CREATE SCHEMA IF NOT EXISTS landing\n",
    "MANAGED LOCATION 'abfss://gizmoboxadb@gijodatabricksextdl.dfs.core.windows.net/landing'\n",
    "COMMENT 'landing schema for gizmoboxadb' ;\n",
    "\n",
    "\n",
    "USE CATALOG adf_adb_bronze;\n",
    "\n",
    "CREATE SCHEMA IF NOT EXISTS bronze\n",
    "MANAGED LOCATION 'abfss://gizmoboxadb@gijodatabricksextdl.dfs.core.windows.net/bronze'\n",
    "COMMENT 'bronze schema for gizmoboxadb' ;\n",
    "\n",
    "\n",
    "USE CATALOG adf_adb_silver;\n",
    "\n",
    "CREATE SCHEMA IF NOT EXISTS silver\n",
    "MANAGED LOCATION 'abfss://gizmoboxadb@gijodatabricksextdl.dfs.core.windows.net/silver'\n",
    "COMMENT 'silver schema for gizmoboxadb' ;\n",
    "\n",
    "\n",
    "USE CATALOG adf_adb_gold;\n",
    "\n",
    "CREATE SCHEMA IF NOT EXISTS gold\n",
    "MANAGED LOCATION 'abfss://gizmoboxadb@gijodatabricksextdl.dfs.core.windows.net/gold'\n",
    "COMMENT 'gold schema for gizmoboxadb' ;"
   ]
  },
  {
   "cell_type": "markdown",
   "metadata": {
    "application/vnd.databricks.v1+cell": {
     "cellMetadata": {
      "byteLimit": 2048000,
      "rowLimit": 10000
     },
     "inputWidgets": {},
     "nuid": "69f387ed-8ad7-4061-8f40-56eed8dbf40e",
     "showTitle": false,
     "tableResultSettingsMap": {},
     "title": ""
    }
   },
   "source": [
    "#### step 5 : Create External VOLUME  "
   ]
  },
  {
   "cell_type": "code",
   "execution_count": 0,
   "metadata": {
    "application/vnd.databricks.v1+cell": {
     "cellMetadata": {
      "byteLimit": 2048000,
      "rowLimit": 10000
     },
     "inputWidgets": {},
     "nuid": "d49f0624-8ca3-4e9e-98c3-c976a5a414b8",
     "showTitle": false,
     "tableResultSettingsMap": {},
     "title": ""
    }
   },
   "outputs": [],
   "source": [
    "CREATE EXTERNAL VOLUME adf_adb_landing.landing.operational_data\n",
    "LOCATION 'abfss://gizmoboxadb@gijodatabricksextdl.dfs.core.windows.net/landing/operational_data/'"
   ]
  },
  {
   "cell_type": "markdown",
   "metadata": {
    "application/vnd.databricks.v1+cell": {
     "cellMetadata": {},
     "inputWidgets": {},
     "nuid": "be179879-56fd-4d1c-998f-572e34fb9673",
     "showTitle": false,
     "tableResultSettingsMap": {},
     "title": ""
    }
   },
   "source": [
    "#### step 6: Creating volume for Logs"
   ]
  },
  {
   "cell_type": "code",
   "execution_count": 0,
   "metadata": {
    "application/vnd.databricks.v1+cell": {
     "cellMetadata": {
      "byteLimit": 2048000,
      "rowLimit": 10000
     },
     "inputWidgets": {},
     "nuid": "b7b3ef7d-a500-4888-8d12-d1f4d6367e46",
     "showTitle": false,
     "tableResultSettingsMap": {},
     "title": ""
    }
   },
   "outputs": [],
   "source": [
    "CREATE CATALOG IF NOT EXISTS adf_adb_logs\n",
    "MANAGED LOCATION 'abfss://gizmoboxadb@gijodatabricksextdl.dfs.core.windows.net/adf_adb_logs/'\n",
    "COMMENT 'External locaton for gizmoboxadb/adf_adb_logs in gijodatabricksextdl datalake ';\n",
    "\n",
    "USE CATALOG adf_adb_logs;\n",
    "\n",
    "CREATE SCHEMA IF NOT EXISTS adf_adb_logs.bronze_logs\n",
    "MANAGED LOCATION 'abfss://gizmoboxadb@gijodatabricksextdl.dfs.core.windows.net/adf_adb_logs/bronze_logs'\n",
    "COMMENT 'bronze_logs schema for gizmoboxadb' ;\n",
    "\n",
    "CREATE EXTERNAL VOLUME adf_adb_logs.bronze_logs.operational_logs\n",
    "LOCATION 'abfss://gizmoboxadb@gijodatabricksextdl.dfs.core.windows.net/adf_adb_logs/bronze_logs/operational_logs/';\n",
    "\n",
    "\n",
    "CREATE SCHEMA IF NOT EXISTS adf_adb_logs.silver_logs\n",
    "MANAGED LOCATION 'abfss://gizmoboxadb@gijodatabricksextdl.dfs.core.windows.net/adf_adb_logs/silver_logs'\n",
    "COMMENT 'silver_logs schema for gizmoboxadb' ;\n",
    "\n",
    "CREATE EXTERNAL VOLUME adf_adb_logs.silver_logs.operational_logs\n",
    "LOCATION 'abfss://gizmoboxadb@gijodatabricksextdl.dfs.core.windows.net/adf_adb_logs/silver_logs/operational_logs/';\n",
    "\n",
    "\n",
    "CREATE SCHEMA IF NOT EXISTS adf_adb_logs.gold_logs\n",
    "MANAGED LOCATION 'abfss://gizmoboxadb@gijodatabricksextdl.dfs.core.windows.net/adf_adb_logs/gold_logs'\n",
    "COMMENT 'gold_logs schema for gizmoboxadb' ;\n",
    "\n",
    "CREATE EXTERNAL VOLUME adf_adb_logs.gold_logs.operational_logs\n",
    "LOCATION 'abfss://gizmoboxadb@gijodatabricksextdl.dfs.core.windows.net/adf_adb_logs/gold_logs/operational_logs/';"
   ]
  }
 ],
 "metadata": {
  "application/vnd.databricks.v1+notebook": {
   "computePreferences": {
    "hardware": {
     "accelerator": null,
     "gpuPoolId": null,
     "memory": null
    }
   },
   "dashboards": [],
   "environmentMetadata": {
    "base_environment": "",
    "environment_version": "2"
   },
   "inputWidgetPreferences": null,
   "language": "sql",
   "notebookMetadata": {
    "pythonIndentUnit": 4
   },
   "notebookName": "00_project_setup",
   "widgets": {}
  },
  "language_info": {
   "name": "sql"
  }
 },
 "nbformat": 4,
 "nbformat_minor": 0
}
