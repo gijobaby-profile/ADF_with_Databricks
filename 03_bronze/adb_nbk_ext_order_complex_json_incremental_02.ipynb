{
 "cells": [
  {
   "cell_type": "markdown",
   "metadata": {
    "application/vnd.databricks.v1+cell": {
     "cellMetadata": {
      "byteLimit": 2048000,
      "rowLimit": 10000
     },
     "inputWidgets": {},
     "nuid": "03a9ed5d-775e-43d2-98f9-de52ae5e5e50",
     "showTitle": false,
     "tableResultSettingsMap": {},
     "title": ""
    }
   },
   "source": [
    "### Extract data from order - Complex JSON file (Having Arrays, Nexted JSON and Data Issues)\n",
    "Note : This structure is compactable with \n",
    "1. incremental load\n",
    "1. fault tolerance\n",
    "1. schema evolution\n",
    "1. Reusability\n",
    "2. Error Handling\n",
    "3. Logging\n",
    "4. Schema validation\n",
    "5. Modularization\n",
    "6. Maintainability\n",
    "7. Observability\n",
    "8. Re-run safety"
   ]
  },
  {
   "cell_type": "code",
   "execution_count": 0,
   "metadata": {
    "application/vnd.databricks.v1+cell": {
     "cellMetadata": {
      "byteLimit": 2048000,
      "rowLimit": 10000
     },
     "inputWidgets": {},
     "nuid": "5f265815-922d-4ae5-b189-4ecd865d7f4e",
     "showTitle": false,
     "tableResultSettingsMap": {},
     "title": ""
    }
   },
   "outputs": [],
   "source": [
    "from pyspark.sql.functions import current_timestamp, col\n",
    "from pyspark.sql.utils import AnalysisException\n",
    "import traceback\n",
    "import logging"
   ]
  },
  {
   "cell_type": "code",
   "execution_count": 0,
   "metadata": {
    "application/vnd.databricks.v1+cell": {
     "cellMetadata": {
      "byteLimit": 2048000,
      "rowLimit": 10000
     },
     "inputWidgets": {},
     "nuid": "40ee4d52-51bb-4632-b6da-80aa26a9e000",
     "showTitle": false,
     "tableResultSettingsMap": {},
     "title": ""
    }
   },
   "outputs": [],
   "source": [
    "# ADF Parameters (Widgets)\n",
    "dbutils.widgets.text(\"SOURCE_PATH\", \"/Volumes/adf_adb_landing/landing/operational_data/customer\")\n",
    "dbutils.widgets.text(\"TARGET_TABLE\", \"adf_adb_bronze.bronze.customer\")\n",
    "dbutils.widgets.text(\"FILE_FORMAT\", \"json\")\n",
    "dbutils.widgets.text(\"WRITE_MODE\", \"append\")\n",
    "dbutils.widgets.text(\"JOB_NAME\", \"adb_nbk_ext_customer_json_incremental_01\")\n",
    "dbutils.widgets.text(\"LOG_DIR\", \"/Volumes/adf_adb_logs/bronze_logs/operational_logs\")\n",
    "dbutils.widgets.text(\"SCHEMA_EVOLUTION_MODE\", \"rescue\")\n",
    "dbutils.widgets.text(\"QUERY_NAME\", \"customer_incremental_query\")\n",
    "\n",
    "# Fetch parameters\n",
    "SOURCE_PATH = dbutils.widgets.get(\"SOURCE_PATH\").strip()\n",
    "TARGET_TABLE = dbutils.widgets.get(\"TARGET_TABLE\").strip()\n",
    "FILE_FORMAT = dbutils.widgets.get(\"FILE_FORMAT\").strip()\n",
    "WRITE_MODE = dbutils.widgets.get(\"WRITE_MODE\").strip()\n",
    "JOB_NAME = dbutils.widgets.get(\"JOB_NAME\").strip()\n",
    "LOG_DIR = dbutils.widgets.get(\"LOG_DIR\").strip()\n",
    "SCHEMA_EVOLUTION_MODE = dbutils.widgets.get(\"SCHEMA_EVOLUTION_MODE\").strip()\n",
    "QUERY_NAME = dbutils.widgets.get(\"QUERY_NAME\").strip()"
   ]
  },
  {
   "cell_type": "markdown",
   "metadata": {
    "application/vnd.databricks.v1+cell": {
     "cellMetadata": {
      "byteLimit": 2048000,
      "rowLimit": 10000
     },
     "inputWidgets": {},
     "nuid": "33008478-899e-4ee9-b89e-4c37885bf202",
     "showTitle": false,
     "tableResultSettingsMap": {},
     "title": ""
    }
   },
   "source": [
    "##### Implemenation for incremental load using autoloader - Structured streaming compactable with batch style"
   ]
  },
  {
   "cell_type": "code",
   "execution_count": 0,
   "metadata": {
    "application/vnd.databricks.v1+cell": {
     "cellMetadata": {
      "byteLimit": 2048000,
      "rowLimit": 10000
     },
     "inputWidgets": {},
     "nuid": "975b6382-e030-44f1-bb3f-434229acc8fd",
     "showTitle": false,
     "tableResultSettingsMap": {},
     "title": ""
    }
   },
   "outputs": [],
   "source": [
    "%run ../01_includes/13_incremental_core_modules"
   ]
  },
  {
   "cell_type": "code",
   "execution_count": 0,
   "metadata": {
    "application/vnd.databricks.v1+cell": {
     "cellMetadata": {
      "byteLimit": 2048000,
      "rowLimit": 10000
     },
     "inputWidgets": {},
     "nuid": "c6130586-4e04-49b4-b8d1-104205571f94",
     "showTitle": false,
     "tableResultSettingsMap": {},
     "title": ""
    }
   },
   "outputs": [],
   "source": [
    "# Init logger and listener\n",
    "logger = get_logger(JOB_NAME, LOG_DIR)\n",
    "logger.info(\"Pipeline starting... (widget-driven)\")\n",
    "attach_streaming_listener(job_name=JOB_NAME, log_dir=LOG_DIR)"
   ]
  },
  {
   "cell_type": "code",
   "execution_count": 0,
   "metadata": {
    "application/vnd.databricks.v1+cell": {
     "cellMetadata": {
      "byteLimit": 2048000,
      "rowLimit": 10000
     },
     "inputWidgets": {},
     "nuid": "96b90c00-7382-4aba-a367-3b92ebc3a17c",
     "showTitle": false,
     "tableResultSettingsMap": {},
     "title": ""
    }
   },
   "outputs": [],
   "source": [
    "# -----------------------------------------\n",
    "# Orchestration\n",
    "# -----------------------------------------\n",
    "# Incremental read via Auto Loader\n",
    "try:\n",
    "    readed_data_df = read_incremental_data(\n",
    "        path=SOURCE_PATH,\n",
    "        file_format=FILE_FORMAT,\n",
    "        schema_evolution_mode=SCHEMA_EVOLUTION_MODE,\n",
    "        job_name=JOB_NAME,\n",
    "        logger=logger\n",
    "    )\n",
    "except Exception as e:\n",
    "    logger.error(f\"Read stage failed: {e}\")\n",
    "    close_logger(logger)\n",
    "    raise\n",
    "\n",
    "# COMMAND ----------\n",
    "# Enrichment (reuses your existing enricher)\n",
    "try:\n",
    "    enriched_df = enrich_data(readed_data_df)\n",
    "    logger.info(\"Enrichment complete.\")\n",
    "except Exception as e:\n",
    "    logger.error(f\"Enrichment failed: {e}\")\n",
    "    close_logger(logger)\n",
    "    raise\n",
    "\n",
    "# COMMAND ----------\n",
    "# Streaming write to Delta (availableNow) + register table if needed\n",
    "try:\n",
    "    streaming_write_to_table(\n",
    "        df=enriched_df,\n",
    "        table_name=TARGET_TABLE,\n",
    "        write_mode=WRITE_MODE,\n",
    "        job_name=JOB_NAME,\n",
    "        source_path=SOURCE_PATH,\n",
    "        query_name=QUERY_NAME,\n",
    "        logger=logger\n",
    "    )\n",
    "    logger.info(\"Pipeline completed successfully.\")\n",
    "except Exception as e:\n",
    "    logger.error(f\"Write stage failed: {e}\")\n",
    "    raise\n",
    "finally:\n",
    "    close_logger(logger)\n",
    "\n"
   ]
  },
  {
   "cell_type": "code",
   "execution_count": 0,
   "metadata": {
    "application/vnd.databricks.v1+cell": {
     "cellMetadata": {
      "byteLimit": 2048000,
      "rowLimit": 10000
     },
     "inputWidgets": {},
     "nuid": "2a16a4db-a152-4cbc-8631-d8981f97160a",
     "showTitle": false,
     "tableResultSettingsMap": {
      "0": {
       "dataGridStateBlob": "{\"version\":1,\"tableState\":{\"columnPinning\":{\"left\":[\"#row_number#\"],\"right\":[]},\"columnSizing\":{},\"columnVisibility\":{}},\"settings\":{\"columns\":{}},\"syncTimestamp\":1754514772066}",
       "filterBlob": null,
       "queryPlanFiltersBlob": null,
       "tableResultIndex": 0
      }
     },
     "title": ""
    }
   },
   "outputs": [],
   "source": [
    "# Quick checks \n",
    "display(spark.table(TARGET_TABLE))"
   ]
  },
  {
   "cell_type": "code",
   "execution_count": 0,
   "metadata": {
    "application/vnd.databricks.v1+cell": {
     "cellMetadata": {
      "byteLimit": 2048000,
      "rowLimit": 10000
     },
     "inputWidgets": {},
     "nuid": "0de362a0-f97d-4b11-920a-fd56dcfbde7a",
     "showTitle": false,
     "tableResultSettingsMap": {},
     "title": ""
    }
   },
   "outputs": [],
   "source": [
    "display(spark.read.text(LOG_DIR))"
   ]
  }
 ],
 "metadata": {
  "application/vnd.databricks.v1+notebook": {
   "computePreferences": {
    "hardware": {
     "accelerator": null,
     "gpuPoolId": null,
     "memory": null
    }
   },
   "dashboards": [],
   "environmentMetadata": {
    "base_environment": "",
    "environment_version": "2"
   },
   "inputWidgetPreferences": null,
   "language": "python",
   "notebookMetadata": {
    "mostRecentlyExecutedCommandWithImplicitDF": {
     "commandId": 4574594320520971,
     "dataframes": [
      "_sqldf"
     ]
    },
    "pythonIndentUnit": 4
   },
   "notebookName": "adb_nbk_ext_order_complex_json_incremental_02",
   "widgets": {
    "FILE_FORMAT": {
     "currentValue": "text",
     "nuid": "520e748a-0846-4e1f-a271-2dc23f66547f",
     "typedWidgetInfo": {
      "autoCreated": false,
      "defaultValue": "json",
      "label": null,
      "name": "FILE_FORMAT",
      "options": {
       "widgetDisplayType": "Text",
       "validationRegex": null
      },
      "parameterDataType": "String"
     },
     "widgetInfo": {
      "widgetType": "text",
      "defaultValue": "json",
      "label": null,
      "name": "FILE_FORMAT",
      "options": {
       "widgetType": "text",
       "autoCreated": null,
       "validationRegex": null
      }
     }
    },
    "JOB_NAME": {
     "currentValue": "adb_nbk_ext_order_complex_json_incremental_01",
     "nuid": "22ece903-d0f0-47dd-a39f-3c982899b6a5",
     "typedWidgetInfo": {
      "autoCreated": false,
      "defaultValue": "adb_nbk_ext_customer_json_incremental_01",
      "label": null,
      "name": "JOB_NAME",
      "options": {
       "widgetDisplayType": "Text",
       "validationRegex": null
      },
      "parameterDataType": "String"
     },
     "widgetInfo": {
      "widgetType": "text",
      "defaultValue": "adb_nbk_ext_customer_json_incremental_01",
      "label": null,
      "name": "JOB_NAME",
      "options": {
       "widgetType": "text",
       "autoCreated": null,
       "validationRegex": null
      }
     }
    },
    "LOG_DIR": {
     "currentValue": "/Volumes/adf_adb_logs/bronze_logs/operational_logs",
     "nuid": "8cd65236-caae-439e-88d8-bb8cef0be2a3",
     "typedWidgetInfo": {
      "autoCreated": false,
      "defaultValue": "/Volumes/adf_adb_logs/bronze_logs/operational_logs",
      "label": null,
      "name": "LOG_DIR",
      "options": {
       "widgetDisplayType": "Text",
       "validationRegex": null
      },
      "parameterDataType": "String"
     },
     "widgetInfo": {
      "widgetType": "text",
      "defaultValue": "/Volumes/adf_adb_logs/bronze_logs/operational_logs",
      "label": null,
      "name": "LOG_DIR",
      "options": {
       "widgetType": "text",
       "autoCreated": null,
       "validationRegex": null
      }
     }
    },
    "QUERY_NAME": {
     "currentValue": "order_incremental_query",
     "nuid": "9c2d3189-d233-448c-8908-8235ebafd0ab",
     "typedWidgetInfo": {
      "autoCreated": false,
      "defaultValue": "customer_incremental_query",
      "label": null,
      "name": "QUERY_NAME",
      "options": {
       "widgetDisplayType": "Text",
       "validationRegex": null
      },
      "parameterDataType": "String"
     },
     "widgetInfo": {
      "widgetType": "text",
      "defaultValue": "customer_incremental_query",
      "label": null,
      "name": "QUERY_NAME",
      "options": {
       "widgetType": "text",
       "autoCreated": null,
       "validationRegex": null
      }
     }
    },
    "SCHEMA_EVOLUTION_MODE": {
     "currentValue": "none",
     "nuid": "52b62c1e-33dc-45e3-9978-1fd5cb85cfe5",
     "typedWidgetInfo": {
      "autoCreated": false,
      "defaultValue": "rescue",
      "label": null,
      "name": "SCHEMA_EVOLUTION_MODE",
      "options": {
       "widgetDisplayType": "Text",
       "validationRegex": null
      },
      "parameterDataType": "String"
     },
     "widgetInfo": {
      "widgetType": "text",
      "defaultValue": "rescue",
      "label": null,
      "name": "SCHEMA_EVOLUTION_MODE",
      "options": {
       "widgetType": "text",
       "autoCreated": null,
       "validationRegex": null
      }
     }
    },
    "SOURCE_PATH": {
     "currentValue": "/Volumes/adf_adb_landing/landing/operational_data/order",
     "nuid": "cf387e8b-8434-4ae9-a7f5-f5ddade4c6e7",
     "typedWidgetInfo": {
      "autoCreated": false,
      "defaultValue": "/Volumes/adf_adb_landing/landing/operational_data/customer",
      "label": null,
      "name": "SOURCE_PATH",
      "options": {
       "widgetDisplayType": "Text",
       "validationRegex": null
      },
      "parameterDataType": "String"
     },
     "widgetInfo": {
      "widgetType": "text",
      "defaultValue": "/Volumes/adf_adb_landing/landing/operational_data/customer",
      "label": null,
      "name": "SOURCE_PATH",
      "options": {
       "widgetType": "text",
       "autoCreated": null,
       "validationRegex": null
      }
     }
    },
    "TARGET_TABLE": {
     "currentValue": "adf_adb_bronze.bronze.order",
     "nuid": "abdb3072-e0e3-4bf0-a0bf-52e72d7a1995",
     "typedWidgetInfo": {
      "autoCreated": false,
      "defaultValue": "adf_adb_bronze.bronze.customer",
      "label": null,
      "name": "TARGET_TABLE",
      "options": {
       "widgetDisplayType": "Text",
       "validationRegex": null
      },
      "parameterDataType": "String"
     },
     "widgetInfo": {
      "widgetType": "text",
      "defaultValue": "adf_adb_bronze.bronze.customer",
      "label": null,
      "name": "TARGET_TABLE",
      "options": {
       "widgetType": "text",
       "autoCreated": null,
       "validationRegex": null
      }
     }
    },
    "WRITE_MODE": {
     "currentValue": "append",
     "nuid": "82152a9b-74bd-45ed-8ddc-a5072e0a3025",
     "typedWidgetInfo": {
      "autoCreated": false,
      "defaultValue": "append",
      "label": null,
      "name": "WRITE_MODE",
      "options": {
       "widgetDisplayType": "Text",
       "validationRegex": null
      },
      "parameterDataType": "String"
     },
     "widgetInfo": {
      "widgetType": "text",
      "defaultValue": "append",
      "label": null,
      "name": "WRITE_MODE",
      "options": {
       "widgetType": "text",
       "autoCreated": null,
       "validationRegex": null
      }
     }
    }
   }
  },
  "language_info": {
   "name": "python"
  }
 },
 "nbformat": 4,
 "nbformat_minor": 0
}
