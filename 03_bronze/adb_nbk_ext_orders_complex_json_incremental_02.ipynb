{
 "cells": [
  {
   "cell_type": "markdown",
   "metadata": {
    "application/vnd.databricks.v1+cell": {
     "cellMetadata": {
      "byteLimit": 2048000,
      "rowLimit": 10000
     },
     "inputWidgets": {},
     "nuid": "03a9ed5d-775e-43d2-98f9-de52ae5e5e50",
     "showTitle": false,
     "tableResultSettingsMap": {},
     "title": ""
    }
   },
   "source": [
    "### Extract data from order - Complex JSON file (Having Arrays, Nexted JSON and Data Issues)\n",
    "Note : This structure is compactable with \n",
    "1. incremental load\n",
    "1. fault tolerance\n",
    "1. schema evolution\n",
    "1. Reusability\n",
    "2. Error Handling\n",
    "3. Logging\n",
    "4. Schema validation\n",
    "5. Modularization\n",
    "6. Maintainability\n",
    "7. Observability\n",
    "8. Re-run safety"
   ]
  },
  {
   "cell_type": "code",
   "execution_count": 0,
   "metadata": {
    "application/vnd.databricks.v1+cell": {
     "cellMetadata": {
      "byteLimit": 2048000,
      "rowLimit": 10000
     },
     "inputWidgets": {},
     "nuid": "5f265815-922d-4ae5-b189-4ecd865d7f4e",
     "showTitle": false,
     "tableResultSettingsMap": {},
     "title": ""
    }
   },
   "outputs": [],
   "source": [
    "from pyspark.sql.functions import current_timestamp, col\n",
    "from pyspark.sql.utils import AnalysisException\n",
    "import traceback\n",
    "import logging"
   ]
  },
  {
   "cell_type": "code",
   "execution_count": 0,
   "metadata": {
    "application/vnd.databricks.v1+cell": {
     "cellMetadata": {
      "byteLimit": 2048000,
      "rowLimit": 10000
     },
     "inputWidgets": {},
     "nuid": "40ee4d52-51bb-4632-b6da-80aa26a9e000",
     "showTitle": false,
     "tableResultSettingsMap": {},
     "title": ""
    }
   },
   "outputs": [],
   "source": [
    "# ADF Parameters (Widgets)\n",
    "dbutils.widgets.text(\"source_path\", \"\")\n",
    "dbutils.widgets.text(\"target_table\", \"\")\n",
    "dbutils.widgets.text(\"file_format\", \"\")\n",
    "dbutils.widgets.text(\"write_mode\", \"append\")\n",
    "dbutils.widgets.text(\"job_name\", \"\")\n",
    "dbutils.widgets.text(\"enable_enrichment\", \"true\")\n",
    "dbutils.widgets.text(\"log_dir\", \"/Volumes/adf_adb_logs/bronze_logs/operational_logs\")\n",
    "dbutils.widgets.text(\"schema_Evolution_Mode\",\"rescue\")\n",
    "dbutils.widgets.text(\"logger_name\",\"\")\n",
    "\n",
    "# Fetch parameters\n",
    "SOURCE_PATH = dbutils.widgets.get(\"source_path\").strip()\n",
    "TARGET_TABLE = dbutils.widgets.get(\"target_table\").strip()\n",
    "FILE_FORMAT = dbutils.widgets.get(\"file_format\").strip().lower()\n",
    "WRITE_MODE = dbutils.widgets.get(\"write_mode\").strip().lower()\n",
    "JOB_NAME = dbutils.widgets.get(\"job_name\").strip()\n",
    "ENABLE_ENRICHMENT = dbutils.widgets.get(\"enable_enrichment\").strip().lower() == \"true\"\n",
    "LOG_DIR = dbutils.widgets.get(\"log_dir\").strip()\n",
    "SCHEMA_EVOLUTION_MODE=dbutils.widgets.get(\"schema_Evolution_Mode\").strip()\n",
    "LOGGER_NAME=dbutils.widgets.get(\"logger_name\").strip()\n"
   ]
  },
  {
   "cell_type": "code",
   "execution_count": 0,
   "metadata": {
    "application/vnd.databricks.v1+cell": {
     "cellMetadata": {
      "byteLimit": 2048000,
      "rowLimit": 10000
     },
     "inputWidgets": {},
     "nuid": "c496d663-db64-4202-a467-dac0df6f23d7",
     "showTitle": false,
     "tableResultSettingsMap": {},
     "title": ""
    }
   },
   "outputs": [],
   "source": [
    "# Define logger config variables\n",
    "logger_name = LOGGER_NAME\n",
    "logger_level = logging.INFO\n",
    "log_to_file = True\n",
    "log_dir = LOG_DIR"
   ]
  },
  {
   "cell_type": "markdown",
   "metadata": {
    "application/vnd.databricks.v1+cell": {
     "cellMetadata": {
      "byteLimit": 2048000,
      "rowLimit": 10000
     },
     "inputWidgets": {},
     "nuid": "33008478-899e-4ee9-b89e-4c37885bf202",
     "showTitle": false,
     "tableResultSettingsMap": {},
     "title": ""
    }
   },
   "source": [
    "##### Implemenation for incremental load using autoloader - Structured streaming compactable with batch style"
   ]
  },
  {
   "cell_type": "code",
   "execution_count": 0,
   "metadata": {
    "application/vnd.databricks.v1+cell": {
     "cellMetadata": {
      "byteLimit": 2048000,
      "rowLimit": 10000
     },
     "inputWidgets": {},
     "nuid": "975b6382-e030-44f1-bb3f-434229acc8fd",
     "showTitle": false,
     "tableResultSettingsMap": {},
     "title": ""
    }
   },
   "outputs": [],
   "source": [
    "%run ../01_includes/13_incremental_core_modules"
   ]
  },
  {
   "cell_type": "code",
   "execution_count": 0,
   "metadata": {
    "application/vnd.databricks.v1+cell": {
     "cellMetadata": {
      "byteLimit": 2048000,
      "rowLimit": 10000
     },
     "inputWidgets": {},
     "nuid": "96b90c00-7382-4aba-a367-3b92ebc3a17c",
     "showTitle": false,
     "tableResultSettingsMap": {},
     "title": ""
    }
   },
   "outputs": [],
   "source": [
    "# -----------------------------------------\n",
    "# Orchestration\n",
    "# -----------------------------------------\n",
    "\n",
    "# Initialize logger\n",
    "logger = init_logger(name=LOGGER_NAME, level=logging.INFO, log_to_file=True, log_dir=LOG_DIR)\n",
    "logger.info(\"Logger initialized successfully.\")\n",
    "\n",
    "try:\n",
    "    logger.info(f\"{JOB_NAME} - Starting Bronze load pipeline\")\n",
    "\n",
    "    # Auto Loader read (returns streaming DataFrame)\n",
    "    incremental_read_df = read_incremental_data(SOURCE_PATH, FILE_FORMAT)\n",
    "\n",
    "    # enrich data with new audit trial fields\n",
    "    enriched_df = enrich_data(incremental_read_df)\n",
    "\n",
    "    # Write to Delta table (Auto Loader with checkpoint + trigger)\n",
    "    streaming_write_to_table(enriched_df, TARGET_TABLE, WRITE_MODE)\n",
    "\n",
    "    logger.info(f\"{JOB_NAME} - Completed successfully\")\n",
    "\n",
    "except Exception as job_exception:\n",
    "    print(f\"{JOB_NAME} - Pipeline failed: {str(job_exception)}\")\n",
    "    print(traceback.format_exc())  # full traceback\n",
    "\n",
    "    logger.error(f\"{JOB_NAME} - Pipeline failed: {str(job_exception)}\")\n",
    "    logger.error(traceback.format_exc())  # full traceback\n",
    "    raise RuntimeError(f\"{JOB_NAME} - Pipeline execution failed\") from job_exception"
   ]
  },
  {
   "cell_type": "code",
   "execution_count": 0,
   "metadata": {
    "application/vnd.databricks.v1+cell": {
     "cellMetadata": {
      "byteLimit": 2048000,
      "rowLimit": 10000
     },
     "inputWidgets": {},
     "nuid": "2a16a4db-a152-4cbc-8631-d8981f97160a",
     "showTitle": false,
     "tableResultSettingsMap": {
      "0": {
       "dataGridStateBlob": "{\"version\":1,\"tableState\":{\"columnPinning\":{\"left\":[\"#row_number#\"],\"right\":[]},\"columnSizing\":{},\"columnVisibility\":{}},\"settings\":{\"columns\":{}},\"syncTimestamp\":1754514772066}",
       "filterBlob": null,
       "queryPlanFiltersBlob": null,
       "tableResultIndex": 0
      }
     },
     "title": ""
    }
   },
   "outputs": [],
   "source": [
    "display(spark.table(\"adf_adb_bronze.bronze.order\"))"
   ]
  }
 ],
 "metadata": {
  "application/vnd.databricks.v1+notebook": {
   "computePreferences": null,
   "dashboards": [],
   "environmentMetadata": {
    "base_environment": "",
    "environment_version": "2"
   },
   "inputWidgetPreferences": null,
   "language": "python",
   "notebookMetadata": {
    "mostRecentlyExecutedCommandWithImplicitDF": {
     "commandId": 4574594320520971,
     "dataframes": [
      "_sqldf"
     ]
    },
    "pythonIndentUnit": 4
   },
   "notebookName": "adb_nbk_ext_orders_complex_json_incremental_02",
   "widgets": {
    "enable_enrichment": {
     "currentValue": "true",
     "nuid": "ecb1ee0e-b998-4831-8c96-c6909630e821",
     "typedWidgetInfo": {
      "autoCreated": false,
      "defaultValue": "true",
      "label": null,
      "name": "enable_enrichment",
      "options": {
       "widgetDisplayType": "Text",
       "validationRegex": null
      },
      "parameterDataType": "String"
     },
     "widgetInfo": {
      "widgetType": "text",
      "defaultValue": "true",
      "label": null,
      "name": "enable_enrichment",
      "options": {
       "widgetType": "text",
       "autoCreated": null,
       "validationRegex": null
      }
     }
    },
    "file_format": {
     "currentValue": "text",
     "nuid": "c9a96430-238a-4ad2-8331-0fe613cc6b1d",
     "typedWidgetInfo": {
      "autoCreated": false,
      "defaultValue": "",
      "label": null,
      "name": "file_format",
      "options": {
       "widgetDisplayType": "Text",
       "validationRegex": null
      },
      "parameterDataType": "String"
     },
     "widgetInfo": {
      "widgetType": "text",
      "defaultValue": "",
      "label": null,
      "name": "file_format",
      "options": {
       "widgetType": "text",
       "autoCreated": null,
       "validationRegex": null
      }
     }
    },
    "job_name": {
     "currentValue": "adb_nbk_ext_order_complex_json_incremental_01",
     "nuid": "def5b82d-a2cc-49ae-81f7-3a10451e2d3d",
     "typedWidgetInfo": {
      "autoCreated": false,
      "defaultValue": "",
      "label": null,
      "name": "job_name",
      "options": {
       "widgetDisplayType": "Text",
       "validationRegex": null
      },
      "parameterDataType": "String"
     },
     "widgetInfo": {
      "widgetType": "text",
      "defaultValue": "",
      "label": null,
      "name": "job_name",
      "options": {
       "widgetType": "text",
       "autoCreated": null,
       "validationRegex": null
      }
     }
    },
    "log_dir": {
     "currentValue": "/Volumes/adf_adb_logs/bronze_logs/operational_logs",
     "nuid": "09b61086-8087-4cb7-b050-aaea1f1ba887",
     "typedWidgetInfo": {
      "autoCreated": false,
      "defaultValue": "/Volumes/adf_adb_logs/bronze_logs/operational_logs",
      "label": null,
      "name": "log_dir",
      "options": {
       "widgetDisplayType": "Text",
       "validationRegex": null
      },
      "parameterDataType": "String"
     },
     "widgetInfo": {
      "widgetType": "text",
      "defaultValue": "/Volumes/adf_adb_logs/bronze_logs/operational_logs",
      "label": null,
      "name": "log_dir",
      "options": {
       "widgetType": "text",
       "autoCreated": null,
       "validationRegex": null
      }
     }
    },
    "logger_name": {
     "currentValue": "bronze_orders_logger",
     "nuid": "8ea85118-c5b2-419b-b155-ec70ab734411",
     "typedWidgetInfo": {
      "autoCreated": false,
      "defaultValue": "",
      "label": null,
      "name": "logger_name",
      "options": {
       "widgetDisplayType": "Text",
       "validationRegex": null
      },
      "parameterDataType": "String"
     },
     "widgetInfo": {
      "widgetType": "text",
      "defaultValue": "",
      "label": null,
      "name": "logger_name",
      "options": {
       "widgetType": "text",
       "autoCreated": null,
       "validationRegex": null
      }
     }
    },
    "schema_Evolution_Mode": {
     "currentValue": "none",
     "nuid": "a5459804-a588-4fb0-9ea8-fbb114226343",
     "typedWidgetInfo": {
      "autoCreated": false,
      "defaultValue": "rescue",
      "label": null,
      "name": "schema_Evolution_Mode",
      "options": {
       "widgetDisplayType": "Text",
       "validationRegex": null
      },
      "parameterDataType": "String"
     },
     "widgetInfo": {
      "widgetType": "text",
      "defaultValue": "rescue",
      "label": null,
      "name": "schema_Evolution_Mode",
      "options": {
       "widgetType": "text",
       "autoCreated": null,
       "validationRegex": null
      }
     }
    },
    "source_path": {
     "currentValue": "/Volumes/adf_adb_landing/landing/operational_data/order/",
     "nuid": "38c46564-9d42-4db7-ac99-6d4858790c89",
     "typedWidgetInfo": {
      "autoCreated": false,
      "defaultValue": "",
      "label": null,
      "name": "source_path",
      "options": {
       "widgetDisplayType": "Text",
       "validationRegex": null
      },
      "parameterDataType": "String"
     },
     "widgetInfo": {
      "widgetType": "text",
      "defaultValue": "",
      "label": null,
      "name": "source_path",
      "options": {
       "widgetType": "text",
       "autoCreated": null,
       "validationRegex": null
      }
     }
    },
    "target_table": {
     "currentValue": "adf_adb_bronze.bronze.order",
     "nuid": "2af9fb20-ed52-453a-b749-3fc64f379e2e",
     "typedWidgetInfo": {
      "autoCreated": false,
      "defaultValue": "",
      "label": null,
      "name": "target_table",
      "options": {
       "widgetDisplayType": "Text",
       "validationRegex": null
      },
      "parameterDataType": "String"
     },
     "widgetInfo": {
      "widgetType": "text",
      "defaultValue": "",
      "label": null,
      "name": "target_table",
      "options": {
       "widgetType": "text",
       "autoCreated": null,
       "validationRegex": null
      }
     }
    },
    "write_mode": {
     "currentValue": "append",
     "nuid": "4d88823a-dcff-486a-a102-8ea31b4e53f5",
     "typedWidgetInfo": {
      "autoCreated": false,
      "defaultValue": "append",
      "label": null,
      "name": "write_mode",
      "options": {
       "widgetDisplayType": "Text",
       "validationRegex": null
      },
      "parameterDataType": "String"
     },
     "widgetInfo": {
      "widgetType": "text",
      "defaultValue": "append",
      "label": null,
      "name": "write_mode",
      "options": {
       "widgetType": "text",
       "autoCreated": null,
       "validationRegex": null
      }
     }
    }
   }
  },
  "language_info": {
   "name": "python"
  }
 },
 "nbformat": 4,
 "nbformat_minor": 0
}
