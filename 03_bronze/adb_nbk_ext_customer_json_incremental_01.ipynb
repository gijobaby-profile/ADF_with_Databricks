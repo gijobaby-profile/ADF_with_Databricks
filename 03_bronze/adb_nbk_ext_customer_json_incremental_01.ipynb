{
 "cells": [
  {
   "cell_type": "markdown",
   "metadata": {
    "application/vnd.databricks.v1+cell": {
     "cellMetadata": {
      "byteLimit": 2048000,
      "rowLimit": 10000
     },
     "inputWidgets": {},
     "nuid": "03a9ed5d-775e-43d2-98f9-de52ae5e5e50",
     "showTitle": false,
     "tableResultSettingsMap": {},
     "title": ""
    }
   },
   "source": [
    "### Extract data from customer JSON file \n",
    "Note : This structure is compactable with \n",
    "1. incremental load\n",
    "1. fault tolerance\n",
    "1. schema evolution\n",
    "1. Reusability\n",
    "2. Error Handling\n",
    "3. Logging\n",
    "4. Schema validation\n",
    "5. Modularization\n",
    "6. Maintainability\n",
    "7. Observability\n",
    "8. Re-run safety"
   ]
  },
  {
   "cell_type": "code",
   "execution_count": 0,
   "metadata": {
    "application/vnd.databricks.v1+cell": {
     "cellMetadata": {
      "byteLimit": 2048000,
      "rowLimit": 10000
     },
     "inputWidgets": {},
     "nuid": "5f265815-922d-4ae5-b189-4ecd865d7f4e",
     "showTitle": false,
     "tableResultSettingsMap": {},
     "title": ""
    }
   },
   "outputs": [],
   "source": [
    "from pyspark.sql.functions import current_timestamp, col\n",
    "from pyspark.sql.utils import AnalysisException\n",
    "import traceback\n",
    "import logging"
   ]
  },
  {
   "cell_type": "code",
   "execution_count": 0,
   "metadata": {
    "application/vnd.databricks.v1+cell": {
     "cellMetadata": {
      "byteLimit": 2048000,
      "rowLimit": 10000
     },
     "inputWidgets": {},
     "nuid": "40ee4d52-51bb-4632-b6da-80aa26a9e000",
     "showTitle": false,
     "tableResultSettingsMap": {},
     "title": ""
    }
   },
   "outputs": [],
   "source": [
    "# ADF Parameters (Widgets)\n",
    "dbutils.widgets.text(\"pENV\", \"dev\")\n",
    "dbutils.widgets.text(\"pSOURCE_PATH\", \"/Volumes/adf_adb_landing/landing/operational_data/customer\")\n",
    "dbutils.widgets.text(\"pTARGET_TABLE\", \"adf_adb_bronze.bronze.customer\")\n",
    "dbutils.widgets.text(\"pFILE_FORMAT\", \"json\")\n",
    "dbutils.widgets.text(\"pWRITE_MODE\", \"append\")\n",
    "dbutils.widgets.text(\"pJOB_NAME\", \"adb_nbk_ext_customer_json_incremental_01\")\n",
    "dbutils.widgets.text(\"pLOG_DIR\", \"/Volumes/adf_adb_logs/bronze_logs/operational_logs\")\n",
    "dbutils.widgets.text(\"pSCHEMA_EVOLUTION_MODE\", \"rescue\")\n",
    "dbutils.widgets.text(\"pQUERY_NAME\", \"customer_incremental_query\")\n",
    "dbutils.widgets.text(\"pRETRY_OF_RUN_ID\", \"\")\n",
    "\n",
    "# Fetch parameters\n",
    "ENV  = dbutils.widgets.get(\"pENV\").strip().lower()\n",
    "SOURCE_PATH = dbutils.widgets.get(\"pSOURCE_PATH\").strip()\n",
    "TARGET_TABLE = dbutils.widgets.get(\"pTARGET_TABLE\").strip()\n",
    "FILE_FORMAT = dbutils.widgets.get(\"pFILE_FORMAT\").strip()\n",
    "WRITE_MODE = dbutils.widgets.get(\"pWRITE_MODE\").strip()\n",
    "JOB_NAME = dbutils.widgets.get(\"pJOB_NAME\").strip()\n",
    "LOG_DIR = dbutils.widgets.get(\"pLOG_DIR\").strip()\n",
    "SCHEMA_EVOLUTION_MODE = dbutils.widgets.get(\"pSCHEMA_EVOLUTION_MODE\").strip()\n",
    "QUERY_NAME = dbutils.widgets.get(\"pQUERY_NAME\").strip()\n",
    "RETRY_OF_RUN_ID = dbutils.widgets.get(\"pRETRY_OF_RUN_ID\").strip() or None"
   ]
  },
  {
   "cell_type": "markdown",
   "metadata": {
    "application/vnd.databricks.v1+cell": {
     "cellMetadata": {
      "byteLimit": 2048000,
      "rowLimit": 10000
     },
     "inputWidgets": {},
     "nuid": "33008478-899e-4ee9-b89e-4c37885bf202",
     "showTitle": false,
     "tableResultSettingsMap": {},
     "title": ""
    }
   },
   "source": [
    "##### Implemenation for incremental load using autoloader - Structured streaming compactable with batch style"
   ]
  },
  {
   "cell_type": "code",
   "execution_count": 0,
   "metadata": {
    "application/vnd.databricks.v1+cell": {
     "cellMetadata": {
      "byteLimit": 2048000,
      "rowLimit": 10000
     },
     "inputWidgets": {},
     "nuid": "975b6382-e030-44f1-bb3f-434229acc8fd",
     "showTitle": false,
     "tableResultSettingsMap": {},
     "title": ""
    }
   },
   "outputs": [],
   "source": [
    "%run ../01_includes/13_incremental_core_modules"
   ]
  },
  {
   "cell_type": "code",
   "execution_count": 0,
   "metadata": {
    "application/vnd.databricks.v1+cell": {
     "cellMetadata": {
      "byteLimit": 2048000,
      "rowLimit": 10000
     },
     "inputWidgets": {},
     "nuid": "c6130586-4e04-49b4-b8d1-104205571f94",
     "showTitle": false,
     "tableResultSettingsMap": {},
     "title": ""
    }
   },
   "outputs": [],
   "source": [
    "# Init logger and listener\n",
    "logger = get_logger(JOB_NAME, LOG_DIR)\n",
    "logger.info(\"Pipeline starting... (widget-driven)\")\n",
    "attach_streaming_listener(job_name=JOB_NAME, log_dir=LOG_DIR)"
   ]
  },
  {
   "cell_type": "code",
   "execution_count": 0,
   "metadata": {
    "application/vnd.databricks.v1+cell": {
     "cellMetadata": {
      "byteLimit": 2048000,
      "rowLimit": 10000
     },
     "inputWidgets": {},
     "nuid": "65e2a9f4-bd17-49c9-ba98-416e2df5438a",
     "showTitle": false,
     "tableResultSettingsMap": {},
     "title": ""
    }
   },
   "outputs": [],
   "source": [
    "# ---- AUDIT start (per layer derived from pTARGET_TABLE schema) ----\n",
    "_a = audit_start(ENV=ENV, JOB_NAME=JOB_NAME, TARGET_TABLE=TARGET_TABLE,RETRY_OF_RUN_ID=RETRY_OF_RUN_ID, logger=logger)\n",
    "RUN_ID = _a[\"run_id\"]\n",
    "logger.info(\"Audit started for run_id: {RUN_ID}\")"
   ]
  },
  {
   "cell_type": "markdown",
   "metadata": {
    "application/vnd.databricks.v1+cell": {
     "cellMetadata": {
      "byteLimit": 2048000,
      "rowLimit": 10000
     },
     "inputWidgets": {},
     "nuid": "7fc65a95-6760-4c7f-9a3a-53ca86118efa",
     "showTitle": false,
     "tableResultSettingsMap": {},
     "title": ""
    }
   },
   "source": [
    "#### Orchestration Module"
   ]
  },
  {
   "cell_type": "code",
   "execution_count": 0,
   "metadata": {
    "application/vnd.databricks.v1+cell": {
     "cellMetadata": {
      "byteLimit": 2048000,
      "rowLimit": 10000
     },
     "inputWidgets": {},
     "nuid": "7d81aade-9942-4ded-9a43-26c65547d43f",
     "showTitle": false,
     "tableResultSettingsMap": {},
     "title": ""
    }
   },
   "outputs": [],
   "source": [
    "# Incremental read via Auto Loader\n",
    "try:\n",
    "    readed_data_df = read_incremental_data(\n",
    "        path=SOURCE_PATH,\n",
    "        file_format=FILE_FORMAT,\n",
    "        schema_evolution_mode=SCHEMA_EVOLUTION_MODE,\n",
    "        job_name=JOB_NAME,\n",
    "        logger=logger\n",
    "    )\n",
    "    logger.info(\"Read stage complete.\")\n",
    "    \n",
    "except Exception as e:\n",
    "    logger.error(f\"Read stage failed: {e}\")\n",
    "    close_logger(logger)\n",
    "    raise"
   ]
  },
  {
   "cell_type": "code",
   "execution_count": 0,
   "metadata": {
    "application/vnd.databricks.v1+cell": {
     "cellMetadata": {
      "byteLimit": 2048000,
      "rowLimit": 10000
     },
     "inputWidgets": {},
     "nuid": "c603002c-fd39-49e5-8086-2f0945655f10",
     "showTitle": false,
     "tableResultSettingsMap": {},
     "title": ""
    }
   },
   "outputs": [],
   "source": [
    "# Enrichment (reuses your existing enricher)\n",
    "try:\n",
    "    enriched_df = enrich_data(readed_data_df)\n",
    "    logger.info(\"Enrichment complete.\")\n",
    "except Exception as e:\n",
    "    logger.error(f\"Enrichment failed: {e}\")\n",
    "    close_logger(logger)\n",
    "    raise"
   ]
  },
  {
   "cell_type": "code",
   "execution_count": 0,
   "metadata": {
    "application/vnd.databricks.v1+cell": {
     "cellMetadata": {
      "byteLimit": 2048000,
      "rowLimit": 10000
     },
     "inputWidgets": {},
     "nuid": "96b90c00-7382-4aba-a367-3b92ebc3a17c",
     "showTitle": false,
     "tableResultSettingsMap": {},
     "title": ""
    }
   },
   "outputs": [],
   "source": [
    "# Streaming write to Delta (availableNow) + register table if needed\n",
    "try:\n",
    "    streaming_write_to_table(\n",
    "        df=enriched_df,\n",
    "        table_name=TARGET_TABLE,\n",
    "        write_mode=WRITE_MODE,\n",
    "        job_name=JOB_NAME,\n",
    "        source_path=SOURCE_PATH,\n",
    "        query_name=QUERY_NAME,\n",
    "        logger=logger\n",
    "    )\n",
    "    logger.info(\"Write stage completed successfully.\")\n",
    "    \n",
    "# table-wide count; for exact run counts, stamp RUN_ID in rows and filter by it\n",
    "    try:\n",
    "        cnt = spark.table(TARGET_TABLE).count()\n",
    "        audit_update_count(RUN_ID=RUN_ID, TARGET_TABLE=TARGET_TABLE, RECORD_COUNT=cnt, logger=logger)\n",
    "    except Exception:\n",
    "        logger.warning(\"Record count post-write failed; continuing.\")\n",
    "\n",
    "    audit_finalize(RUN_ID=RUN_ID, TARGET_TABLE=TARGET_TABLE, RUN_STATUS=\"SUCCESS\", logger=logger)\n",
    "\n",
    "except Exception as e:\n",
    "    try:\n",
    "        audit_finalize(RUN_ID=RUN_ID, TARGET_TABLE=TARGET_TABLE, RUN_STATUS=\"FAILED\", logger=logger)\n",
    "    except Exception:\n",
    "        logger.error(\"Audit finalize FAILED stage failed as well.\")\n",
    "    logger.error(f\"Write stage failed: {e}\")\n",
    "    logger.error(traceback.format_exc())\n",
    "    raise\n",
    "finally:\n",
    "    close_logger(logger)\n",
    "\n"
   ]
  },
  {
   "cell_type": "code",
   "execution_count": 0,
   "metadata": {
    "application/vnd.databricks.v1+cell": {
     "cellMetadata": {
      "byteLimit": 2048000,
      "rowLimit": 10000
     },
     "inputWidgets": {},
     "nuid": "2a16a4db-a152-4cbc-8631-d8981f97160a",
     "showTitle": false,
     "tableResultSettingsMap": {
      "0": {
       "dataGridStateBlob": "{\"version\":1,\"tableState\":{\"columnPinning\":{\"left\":[\"#row_number#\"],\"right\":[]},\"columnSizing\":{},\"columnVisibility\":{}},\"settings\":{\"columns\":{}},\"syncTimestamp\":1754514772066}",
       "filterBlob": null,
       "queryPlanFiltersBlob": null,
       "tableResultIndex": 0
      }
     },
     "title": ""
    }
   },
   "outputs": [],
   "source": [
    "# Quick checks \n",
    "display(spark.table(TARGET_TABLE))"
   ]
  },
  {
   "cell_type": "code",
   "execution_count": 0,
   "metadata": {
    "application/vnd.databricks.v1+cell": {
     "cellMetadata": {
      "byteLimit": 2048000,
      "rowLimit": 10000
     },
     "inputWidgets": {},
     "nuid": "49f0f2a1-2e79-47b2-b3d9-7438269a136d",
     "showTitle": false,
     "tableResultSettingsMap": {},
     "title": ""
    }
   },
   "outputs": [],
   "source": [
    "# Audit table verifications\n",
    "display(spark.sql(\"select * from adf_adb_audit.audit.pipeline_audit order by AUDIT_DATE desc \"))"
   ]
  },
  {
   "cell_type": "code",
   "execution_count": 0,
   "metadata": {
    "application/vnd.databricks.v1+cell": {
     "cellMetadata": {
      "byteLimit": 2048000,
      "rowLimit": 10000
     },
     "inputWidgets": {},
     "nuid": "5cf9b191-7968-4ef8-acb3-f86ffbc06c5c",
     "showTitle": false,
     "tableResultSettingsMap": {},
     "title": ""
    }
   },
   "outputs": [],
   "source": [
    "# remove the checkpoint\n",
    "dbutils.fs.rm(f\"{SOURCE_PATH}/_checkpoints/{JOB_NAME}\", True)"
   ]
  },
  {
   "cell_type": "code",
   "execution_count": 0,
   "metadata": {
    "application/vnd.databricks.v1+cell": {
     "cellMetadata": {
      "byteLimit": 2048000,
      "rowLimit": 10000
     },
     "inputWidgets": {},
     "nuid": "51f04b6c-e0bb-4168-8aa8-506ba648e130",
     "showTitle": false,
     "tableResultSettingsMap": {
      "0": {
       "dataGridStateBlob": "{\"version\":1,\"tableState\":{\"columnPinning\":{\"left\":[\"#row_number#\"],\"right\":[]},\"columnSizing\":{\"value\":990},\"columnVisibility\":{}},\"settings\":{\"columns\":{}},\"syncTimestamp\":1754990839130}",
       "filterBlob": null,
       "queryPlanFiltersBlob": null,
       "tableResultIndex": 0
      }
     },
     "title": ""
    }
   },
   "outputs": [],
   "source": [
    "display(spark.read.text(\"/Volumes/adf_adb_logs/bronze_logs/operational_logs/adb_nbk_ext_customer_json_incremental_01_20250812_092049.log\"))"
   ]
  }
 ],
 "metadata": {
  "application/vnd.databricks.v1+notebook": {
   "computePreferences": {
    "hardware": {
     "accelerator": null,
     "gpuPoolId": null,
     "memory": null
    }
   },
   "dashboards": [],
   "environmentMetadata": {
    "base_environment": "",
    "environment_version": "2"
   },
   "inputWidgetPreferences": null,
   "language": "python",
   "notebookMetadata": {
    "mostRecentlyExecutedCommandWithImplicitDF": {
     "commandId": 4574594320520971,
     "dataframes": [
      "_sqldf"
     ]
    },
    "pythonIndentUnit": 4
   },
   "notebookName": "adb_nbk_ext_customer_json_incremental_01",
   "widgets": {
    "pENV": {
     "currentValue": "dev",
     "nuid": "d53f1782-30d8-443a-8fb0-ab97bdd822b4",
     "typedWidgetInfo": {
      "autoCreated": false,
      "defaultValue": "dev",
      "label": null,
      "name": "pENV",
      "options": {
       "widgetDisplayType": "Text",
       "validationRegex": null
      },
      "parameterDataType": "String"
     },
     "widgetInfo": {
      "widgetType": "text",
      "defaultValue": "dev",
      "label": null,
      "name": "pENV",
      "options": {
       "widgetType": "text",
       "autoCreated": null,
       "validationRegex": null
      }
     }
    },
    "pFILE_FORMAT": {
     "currentValue": "json",
     "nuid": "bd3aea4f-289c-4b2a-b1aa-351ae7005d7a",
     "typedWidgetInfo": {
      "autoCreated": false,
      "defaultValue": "json",
      "label": null,
      "name": "pFILE_FORMAT",
      "options": {
       "widgetDisplayType": "Text",
       "validationRegex": null
      },
      "parameterDataType": "String"
     },
     "widgetInfo": {
      "widgetType": "text",
      "defaultValue": "json",
      "label": null,
      "name": "pFILE_FORMAT",
      "options": {
       "widgetType": "text",
       "autoCreated": null,
       "validationRegex": null
      }
     }
    },
    "pJOB_NAME": {
     "currentValue": "adb_nbk_ext_customer_json_incremental_01",
     "nuid": "a29e60d0-0eb1-4e0a-bf4f-02901698b783",
     "typedWidgetInfo": {
      "autoCreated": false,
      "defaultValue": "adb_nbk_ext_customer_json_incremental_01",
      "label": null,
      "name": "pJOB_NAME",
      "options": {
       "widgetDisplayType": "Text",
       "validationRegex": null
      },
      "parameterDataType": "String"
     },
     "widgetInfo": {
      "widgetType": "text",
      "defaultValue": "adb_nbk_ext_customer_json_incremental_01",
      "label": null,
      "name": "pJOB_NAME",
      "options": {
       "widgetType": "text",
       "autoCreated": null,
       "validationRegex": null
      }
     }
    },
    "pLOG_DIR": {
     "currentValue": "/Volumes/adf_adb_logs/bronze_logs/operational_logs",
     "nuid": "6a8da4cc-86f5-4b0e-838b-e8c19fa89482",
     "typedWidgetInfo": {
      "autoCreated": false,
      "defaultValue": "/Volumes/adf_adb_logs/bronze_logs/operational_logs",
      "label": null,
      "name": "pLOG_DIR",
      "options": {
       "widgetDisplayType": "Text",
       "validationRegex": null
      },
      "parameterDataType": "String"
     },
     "widgetInfo": {
      "widgetType": "text",
      "defaultValue": "/Volumes/adf_adb_logs/bronze_logs/operational_logs",
      "label": null,
      "name": "pLOG_DIR",
      "options": {
       "widgetType": "text",
       "autoCreated": null,
       "validationRegex": null
      }
     }
    },
    "pQUERY_NAME": {
     "currentValue": "customer_incremental_query",
     "nuid": "e11da474-6e1e-4caa-9880-0d249ba6867b",
     "typedWidgetInfo": {
      "autoCreated": false,
      "defaultValue": "customer_incremental_query",
      "label": null,
      "name": "pQUERY_NAME",
      "options": {
       "widgetDisplayType": "Text",
       "validationRegex": null
      },
      "parameterDataType": "String"
     },
     "widgetInfo": {
      "widgetType": "text",
      "defaultValue": "customer_incremental_query",
      "label": null,
      "name": "pQUERY_NAME",
      "options": {
       "widgetType": "text",
       "autoCreated": null,
       "validationRegex": null
      }
     }
    },
    "pRETRY_OF_RUN_ID": {
     "currentValue": "",
     "nuid": "77be8bb7-54ed-4023-86d4-48c6e9c6d6ab",
     "typedWidgetInfo": {
      "autoCreated": false,
      "defaultValue": "",
      "label": null,
      "name": "pRETRY_OF_RUN_ID",
      "options": {
       "widgetDisplayType": "Text",
       "validationRegex": null
      },
      "parameterDataType": "String"
     },
     "widgetInfo": {
      "widgetType": "text",
      "defaultValue": "",
      "label": null,
      "name": "pRETRY_OF_RUN_ID",
      "options": {
       "widgetType": "text",
       "autoCreated": null,
       "validationRegex": null
      }
     }
    },
    "pSCHEMA_EVOLUTION_MODE": {
     "currentValue": "rescue",
     "nuid": "9a6116f7-b77e-4a7c-af6e-61ce9379888c",
     "typedWidgetInfo": {
      "autoCreated": false,
      "defaultValue": "rescue",
      "label": null,
      "name": "pSCHEMA_EVOLUTION_MODE",
      "options": {
       "widgetDisplayType": "Text",
       "validationRegex": null
      },
      "parameterDataType": "String"
     },
     "widgetInfo": {
      "widgetType": "text",
      "defaultValue": "rescue",
      "label": null,
      "name": "pSCHEMA_EVOLUTION_MODE",
      "options": {
       "widgetType": "text",
       "autoCreated": null,
       "validationRegex": null
      }
     }
    },
    "pSOURCE_PATH": {
     "currentValue": "/Volumes/adf_adb_landing/landing/operational_data/customer",
     "nuid": "b32d241d-c233-4b35-bc65-5aa70a7a9820",
     "typedWidgetInfo": {
      "autoCreated": false,
      "defaultValue": "/Volumes/adf_adb_landing/landing/operational_data/customer",
      "label": null,
      "name": "pSOURCE_PATH",
      "options": {
       "widgetDisplayType": "Text",
       "validationRegex": null
      },
      "parameterDataType": "String"
     },
     "widgetInfo": {
      "widgetType": "text",
      "defaultValue": "/Volumes/adf_adb_landing/landing/operational_data/customer",
      "label": null,
      "name": "pSOURCE_PATH",
      "options": {
       "widgetType": "text",
       "autoCreated": null,
       "validationRegex": null
      }
     }
    },
    "pTARGET_TABLE": {
     "currentValue": "adf_adb_bronze.bronze.customer",
     "nuid": "1d60688c-a5d9-4f28-aafe-dfde51fe8358",
     "typedWidgetInfo": {
      "autoCreated": false,
      "defaultValue": "adf_adb_bronze.bronze.customer",
      "label": null,
      "name": "pTARGET_TABLE",
      "options": {
       "widgetDisplayType": "Text",
       "validationRegex": null
      },
      "parameterDataType": "String"
     },
     "widgetInfo": {
      "widgetType": "text",
      "defaultValue": "adf_adb_bronze.bronze.customer",
      "label": null,
      "name": "pTARGET_TABLE",
      "options": {
       "widgetType": "text",
       "autoCreated": null,
       "validationRegex": null
      }
     }
    },
    "pWRITE_MODE": {
     "currentValue": "append",
     "nuid": "cd8ad686-7460-4f44-8e93-fb30b50e1e0d",
     "typedWidgetInfo": {
      "autoCreated": false,
      "defaultValue": "append",
      "label": null,
      "name": "pWRITE_MODE",
      "options": {
       "widgetDisplayType": "Text",
       "validationRegex": null
      },
      "parameterDataType": "String"
     },
     "widgetInfo": {
      "widgetType": "text",
      "defaultValue": "append",
      "label": null,
      "name": "pWRITE_MODE",
      "options": {
       "widgetType": "text",
       "autoCreated": null,
       "validationRegex": null
      }
     }
    }
   }
  },
  "language_info": {
   "name": "python"
  }
 },
 "nbformat": 4,
 "nbformat_minor": 0
}
