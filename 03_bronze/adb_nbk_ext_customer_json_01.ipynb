{
 "cells": [
  {
   "cell_type": "markdown",
   "metadata": {
    "application/vnd.databricks.v1+cell": {
     "cellMetadata": {
      "byteLimit": 2048000,
      "rowLimit": 10000
     },
     "inputWidgets": {},
     "nuid": "03a9ed5d-775e-43d2-98f9-de52ae5e5e50",
     "showTitle": false,
     "tableResultSettingsMap": {},
     "title": ""
    }
   },
   "source": [
    "## Extract data from customer Simple JSON files using PySpark\n",
    "1. Query single JSON file\n",
    "2. Query multiple JSON files using wild charactors\n",
    "3. Query entire files in a folder"
   ]
  },
  {
   "cell_type": "code",
   "execution_count": 0,
   "metadata": {
    "application/vnd.databricks.v1+cell": {
     "cellMetadata": {
      "byteLimit": 2048000,
      "rowLimit": 10000
     },
     "inputWidgets": {},
     "nuid": "9908f421-ea1a-41af-a57a-43335c9dafac",
     "showTitle": false,
     "tableResultSettingsMap": {},
     "title": ""
    }
   },
   "outputs": [],
   "source": [
    "%run ../01_includes/00_logger_config\n"
   ]
  },
  {
   "cell_type": "code",
   "execution_count": 0,
   "metadata": {
    "application/vnd.databricks.v1+cell": {
     "cellMetadata": {
      "byteLimit": 2048000,
      "rowLimit": 10000
     },
     "inputWidgets": {},
     "nuid": "5f265815-922d-4ae5-b189-4ecd865d7f4e",
     "showTitle": false,
     "tableResultSettingsMap": {},
     "title": ""
    }
   },
   "outputs": [],
   "source": [
    "from pyspark.sql.functions import current_timestamp, col\n",
    "from pyspark.sql.utils import AnalysisException"
   ]
  },
  {
   "cell_type": "code",
   "execution_count": 0,
   "metadata": {
    "application/vnd.databricks.v1+cell": {
     "cellMetadata": {
      "byteLimit": 2048000,
      "rowLimit": 10000
     },
     "inputWidgets": {},
     "nuid": "40ee4d52-51bb-4632-b6da-80aa26a9e000",
     "showTitle": false,
     "tableResultSettingsMap": {},
     "title": ""
    }
   },
   "outputs": [],
   "source": [
    "# ADF Parameters (Widgets)\n",
    "dbutils.widgets.text(\"source_path\", \"/Volumes/adf_adb_landing/landing/operational_data/customer/\")\n",
    "dbutils.widgets.text(\"target_table\", \"adf_adb_bronze.bronze.customer\")\n",
    "dbutils.widgets.text(\"file_format\", \"json\")\n",
    "dbutils.widgets.text(\"write_mode\", \"overwrite\")\n",
    "dbutils.widgets.text(\"job_name\", \"adb_nbk_ext_customer_json_01\")\n",
    "dbutils.widgets.text(\"enable_enrichment\", \"true\")\n",
    "\n",
    "# Fetch parameters\n",
    "SOURCE_PATH = dbutils.widgets.get(\"source_path\").strip()\n",
    "TARGET_TABLE = dbutils.widgets.get(\"target_table\").strip()\n",
    "FILE_FORMAT = dbutils.widgets.get(\"file_format\").strip().lower()\n",
    "WRITE_MODE = dbutils.widgets.get(\"write_mode\").strip().lower()\n",
    "JOB_NAME = dbutils.widgets.get(\"job_name\").strip()\n",
    "ENABLE_ENRICHMENT = dbutils.widgets.get(\"enable_enrichment\").strip().lower() == \"true\"\n"
   ]
  },
  {
   "cell_type": "code",
   "execution_count": 0,
   "metadata": {
    "application/vnd.databricks.v1+cell": {
     "cellMetadata": {
      "byteLimit": 2048000,
      "rowLimit": 10000
     },
     "inputWidgets": {},
     "nuid": "279c1876-bbec-443a-be94-15e39ddf8969",
     "showTitle": false,
     "tableResultSettingsMap": {},
     "title": ""
    }
   },
   "outputs": [],
   "source": [
    "# -----------------------------------------\n",
    "# Function to read data with safety checks\n",
    "# -----------------------------------------\n",
    "def read_data(path: str, fmt: str):\n",
    "    try:\n",
    "        df = spark.read.format(fmt).load(path)\n",
    "        if df.rdd.isEmpty():\n",
    "            logger.warning(f\"{JOB_NAME} - Source data is empty at: {path}\")\n",
    "        else:\n",
    "            logger.info(f\"{JOB_NAME} - Read successful from path: {path}\")\n",
    "            logger.info(f\"{JOB_NAME} - Row count: {df.count():,}\")\n",
    "        return df\n",
    "    except Exception as e:\n",
    "        logger.error(f\"{JOB_NAME} - Failed to read from path: {path}\")\n",
    "        raise RuntimeError(f\"{JOB_NAME} - Read failed\") from e\n"
   ]
  },
  {
   "cell_type": "code",
   "execution_count": 0,
   "metadata": {
    "application/vnd.databricks.v1+cell": {
     "cellMetadata": {
      "byteLimit": 2048000,
      "rowLimit": 10000
     },
     "inputWidgets": {},
     "nuid": "3e50a30d-d967-4b50-993d-f781f9711f8c",
     "showTitle": false,
     "tableResultSettingsMap": {},
     "title": ""
    }
   },
   "outputs": [],
   "source": [
    "# -----------------------------------------\n",
    "# Function to Add Audit fields\n",
    "# -----------------------------------------\n",
    "\n",
    "def enrich_customer_data(df):\n",
    "    try:\n",
    "        enriched_df = df.withColumn(\"Created_Timestamp\", current_timestamp()) \\\n",
    "                        .withColumn(\"FileName\", col(\"_metadata.file_path\"))\n",
    "        logger.info(f\"{JOB_NAME} - Enrichment completed with new Audit columns: Created_Timestamp, FileName\")\n",
    "        return enriched_df\n",
    "    except Exception as e:\n",
    "        logger.error(f\"{JOB_NAME} - Failed during enrichment stage\")\n",
    "        logger.error(f\"{JOB_NAME} - Exception: {str(e)}\")\n",
    "        raise RuntimeError(f\"{JOB_NAME} - Enrichment failed\") from e\n"
   ]
  },
  {
   "cell_type": "code",
   "execution_count": 0,
   "metadata": {
    "application/vnd.databricks.v1+cell": {
     "cellMetadata": {
      "byteLimit": 2048000,
      "rowLimit": 10000
     },
     "inputWidgets": {},
     "nuid": "3b17f70b-873d-4422-b775-42f583d5aa5c",
     "showTitle": false,
     "tableResultSettingsMap": {},
     "title": ""
    }
   },
   "outputs": [],
   "source": [
    "# -----------------------------------------\n",
    "# Function to write data\n",
    "# -----------------------------------------\n",
    "def write_to_table(df, table_name, mode):\n",
    "    try:\n",
    "        row_count = df.count()\n",
    "        if row_count == 0:\n",
    "            logger.warning(f\"{JOB_NAME} - No data to write to table: {table_name}\")\n",
    "            return\n",
    "        \n",
    "        df.write.format(\"delta\") \\\n",
    "            .mode(mode) \\\n",
    "            .saveAsTable(table_name)\n",
    "\n",
    "        logger.info(f\"{JOB_NAME} - Write successful to table: {table_name}\")\n",
    "        logger.info(f\"{JOB_NAME} - Rows written: {row_count:,}\")\n",
    "\n",
    "    except AnalysisException as ae:\n",
    "        logger.error(f\"{JOB_NAME} - Table write failed due to analysis error\")\n",
    "        logger.error(f\"{JOB_NAME} - {str(ae)}\")\n",
    "        raise RuntimeError(f\"{JOB_NAME} - Analysis failure writing to {table_name}\") from ae\n",
    "\n",
    "    except Exception as e:\n",
    "        logger.error(f\"{JOB_NAME} - General failure during write to table: {table_name}\")\n",
    "        logger.error(f\"{JOB_NAME} - Exception: {str(e)}\")\n",
    "        raise RuntimeError(f\"{JOB_NAME} - Write failed to {table_name}\") from e"
   ]
  },
  {
   "cell_type": "code",
   "execution_count": 0,
   "metadata": {
    "application/vnd.databricks.v1+cell": {
     "cellMetadata": {
      "byteLimit": 2048000,
      "rowLimit": 10000
     },
     "inputWidgets": {},
     "nuid": "96b90c00-7382-4aba-a367-3b92ebc3a17c",
     "showTitle": false,
     "tableResultSettingsMap": {},
     "title": ""
    }
   },
   "outputs": [],
   "source": [
    "# -----------------------------------------\n",
    "# Orchestration\n",
    "# -----------------------------------------\n",
    "\n",
    "# Initialize logger\n",
    "logger = init_logger(name=\"bronze_customer_logger\", level=logging.INFO)\n",
    "\n",
    "try:\n",
    "    logger.info(f\"{JOB_NAME} - Starting Bronze load pipeline\")\n",
    "    \n",
    "    cust_df = read_data(SOURCE_PATH, FILE_FORMAT)\n",
    "    cust_df_final = enrich_customer_data(cust_df)\n",
    "    write_to_table(cust_df_final, TARGET_TABLE, WRITE_MODE)\n",
    "\n",
    "    logger.info(f\"{JOB_NAME} - Completed successfully\")\n",
    "\n",
    "except Exception as job_exception:\n",
    "    logger.error(f\"{JOB_NAME} - Pipeline failed: {str(job_exception)}\")\n",
    "    raise\n"
   ]
  }
 ],
 "metadata": {
  "application/vnd.databricks.v1+notebook": {
   "computePreferences": null,
   "dashboards": [],
   "environmentMetadata": {
    "base_environment": "",
    "environment_version": "2"
   },
   "inputWidgetPreferences": null,
   "language": "python",
   "notebookMetadata": {
    "mostRecentlyExecutedCommandWithImplicitDF": {
     "commandId": 7603229163715079,
     "dataframes": [
      "_sqldf"
     ]
    },
    "pythonIndentUnit": 4
   },
   "notebookName": "adb_nbk_ext_customer_json_01",
   "widgets": {
    "enable_enrichment": {
     "currentValue": "true",
     "nuid": "ecb1ee0e-b998-4831-8c96-c6909630e821",
     "typedWidgetInfo": {
      "autoCreated": false,
      "defaultValue": "true",
      "label": null,
      "name": "enable_enrichment",
      "options": {
       "widgetDisplayType": "Text",
       "validationRegex": null
      },
      "parameterDataType": "String"
     },
     "widgetInfo": {
      "widgetType": "text",
      "defaultValue": "true",
      "label": null,
      "name": "enable_enrichment",
      "options": {
       "widgetType": "text",
       "autoCreated": null,
       "validationRegex": null
      }
     }
    },
    "file_format": {
     "currentValue": "json",
     "nuid": "c9a96430-238a-4ad2-8331-0fe613cc6b1d",
     "typedWidgetInfo": {
      "autoCreated": false,
      "defaultValue": "json",
      "label": null,
      "name": "file_format",
      "options": {
       "widgetDisplayType": "Text",
       "validationRegex": null
      },
      "parameterDataType": "String"
     },
     "widgetInfo": {
      "widgetType": "text",
      "defaultValue": "json",
      "label": null,
      "name": "file_format",
      "options": {
       "widgetType": "text",
       "autoCreated": null,
       "validationRegex": null
      }
     }
    },
    "job_name": {
     "currentValue": "adb_nbk_ext_customer_json_01",
     "nuid": "def5b82d-a2cc-49ae-81f7-3a10451e2d3d",
     "typedWidgetInfo": {
      "autoCreated": false,
      "defaultValue": "adb_nbk_ext_customer_json_01",
      "label": null,
      "name": "job_name",
      "options": {
       "widgetDisplayType": "Text",
       "validationRegex": null
      },
      "parameterDataType": "String"
     },
     "widgetInfo": {
      "widgetType": "text",
      "defaultValue": "adb_nbk_ext_customer_json_01",
      "label": null,
      "name": "job_name",
      "options": {
       "widgetType": "text",
       "autoCreated": null,
       "validationRegex": null
      }
     }
    },
    "source_path": {
     "currentValue": "/Volumes/adf_adb_landing/landing/operational_data/customer/",
     "nuid": "38c46564-9d42-4db7-ac99-6d4858790c89",
     "typedWidgetInfo": {
      "autoCreated": false,
      "defaultValue": "/Volumes/adf_adb_landing/landing/operational_data/customer/",
      "label": null,
      "name": "source_path",
      "options": {
       "widgetDisplayType": "Text",
       "validationRegex": null
      },
      "parameterDataType": "String"
     },
     "widgetInfo": {
      "widgetType": "text",
      "defaultValue": "/Volumes/adf_adb_landing/landing/operational_data/customer/",
      "label": null,
      "name": "source_path",
      "options": {
       "widgetType": "text",
       "autoCreated": null,
       "validationRegex": null
      }
     }
    },
    "target_table": {
     "currentValue": "adf_adb_bronze.bronze.customer",
     "nuid": "2af9fb20-ed52-453a-b749-3fc64f379e2e",
     "typedWidgetInfo": {
      "autoCreated": false,
      "defaultValue": "adf_adb_bronze.bronze.customer",
      "label": null,
      "name": "target_table",
      "options": {
       "widgetDisplayType": "Text",
       "validationRegex": null
      },
      "parameterDataType": "String"
     },
     "widgetInfo": {
      "widgetType": "text",
      "defaultValue": "adf_adb_bronze.bronze.customer",
      "label": null,
      "name": "target_table",
      "options": {
       "widgetType": "text",
       "autoCreated": null,
       "validationRegex": null
      }
     }
    },
    "write_mode": {
     "currentValue": "overwrite",
     "nuid": "4d88823a-dcff-486a-a102-8ea31b4e53f5",
     "typedWidgetInfo": {
      "autoCreated": false,
      "defaultValue": "overwrite",
      "label": null,
      "name": "write_mode",
      "options": {
       "widgetDisplayType": "Text",
       "validationRegex": null
      },
      "parameterDataType": "String"
     },
     "widgetInfo": {
      "widgetType": "text",
      "defaultValue": "overwrite",
      "label": null,
      "name": "write_mode",
      "options": {
       "widgetType": "text",
       "autoCreated": null,
       "validationRegex": null
      }
     }
    }
   }
  },
  "language_info": {
   "name": "python"
  }
 },
 "nbformat": 4,
 "nbformat_minor": 0
}
