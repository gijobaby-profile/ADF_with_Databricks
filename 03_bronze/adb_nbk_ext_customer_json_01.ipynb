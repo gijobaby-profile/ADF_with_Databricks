{
 "cells": [
  {
   "cell_type": "markdown",
   "metadata": {
    "application/vnd.databricks.v1+cell": {
     "cellMetadata": {
      "byteLimit": 2048000,
      "rowLimit": 10000
     },
     "inputWidgets": {},
     "nuid": "03a9ed5d-775e-43d2-98f9-de52ae5e5e50",
     "showTitle": false,
     "tableResultSettingsMap": {},
     "title": ""
    }
   },
   "source": [
    "## Extract data from customer Simple JSON files using PySpark\n",
    "Note : This structure is compactable with the below functions\n",
    "1. Reusability\n",
    "2. Error Handling\n",
    "3. Logging\n",
    "4. Schema validation\n",
    "5. Modularization\n",
    "6. Maintainability\n",
    "7. Observability\n",
    "8. Re-run safety"
   ]
  },
  {
   "cell_type": "code",
   "execution_count": 0,
   "metadata": {
    "application/vnd.databricks.v1+cell": {
     "cellMetadata": {
      "byteLimit": 2048000,
      "rowLimit": 10000
     },
     "inputWidgets": {},
     "nuid": "5f265815-922d-4ae5-b189-4ecd865d7f4e",
     "showTitle": false,
     "tableResultSettingsMap": {},
     "title": ""
    }
   },
   "outputs": [],
   "source": [
    "from pyspark.sql.functions import current_timestamp, col\n",
    "from pyspark.sql.utils import AnalysisException\n",
    "import traceback\n",
    "import logging"
   ]
  },
  {
   "cell_type": "code",
   "execution_count": 0,
   "metadata": {
    "application/vnd.databricks.v1+cell": {
     "cellMetadata": {
      "byteLimit": 2048000,
      "rowLimit": 10000
     },
     "inputWidgets": {},
     "nuid": "40ee4d52-51bb-4632-b6da-80aa26a9e000",
     "showTitle": false,
     "tableResultSettingsMap": {},
     "title": ""
    }
   },
   "outputs": [],
   "source": [
    "# ADF Parameters (Widgets)\n",
    "dbutils.widgets.text(\"source_path\", \"/Volumes/adf_adb_landing/landing/operational_data/customer/\")\n",
    "dbutils.widgets.text(\"target_table\", \"adf_adb_bronze.bronze.customer\")\n",
    "dbutils.widgets.text(\"file_format\", \"json\")\n",
    "dbutils.widgets.text(\"write_mode\", \"overwrite\")\n",
    "dbutils.widgets.text(\"job_name\", \"adb_nbk_ext_customer_json_01\")\n",
    "dbutils.widgets.text(\"enable_enrichment\", \"true\")\n",
    "dbutils.widgets.text(\"log_dir\", \"/Volumes/adf_adb_logs/bronze_logs/operational_logs\")\n",
    "\n",
    "# Fetch parameters\n",
    "SOURCE_PATH = dbutils.widgets.get(\"source_path\").strip()\n",
    "TARGET_TABLE = dbutils.widgets.get(\"target_table\").strip()\n",
    "FILE_FORMAT = dbutils.widgets.get(\"file_format\").strip().lower()\n",
    "WRITE_MODE = dbutils.widgets.get(\"write_mode\").strip().lower()\n",
    "JOB_NAME = dbutils.widgets.get(\"job_name\").strip()\n",
    "ENABLE_ENRICHMENT = dbutils.widgets.get(\"enable_enrichment\").strip().lower() == \"true\"\n",
    "LOG_DIR = dbutils.widgets.get(\"log_dir\").strip()\n"
   ]
  },
  {
   "cell_type": "code",
   "execution_count": 0,
   "metadata": {
    "application/vnd.databricks.v1+cell": {
     "cellMetadata": {
      "byteLimit": 2048000,
      "rowLimit": 10000
     },
     "inputWidgets": {},
     "nuid": "c496d663-db64-4202-a467-dac0df6f23d7",
     "showTitle": false,
     "tableResultSettingsMap": {},
     "title": ""
    }
   },
   "outputs": [],
   "source": [
    "# Define logger config variables\n",
    "logger_name = \"bronze_customer_logger\"\n",
    "logger_level = logging.INFO\n",
    "log_to_file = True\n",
    "log_dir = LOG_DIR"
   ]
  },
  {
   "cell_type": "code",
   "execution_count": 0,
   "metadata": {
    "application/vnd.databricks.v1+cell": {
     "cellMetadata": {
      "byteLimit": 2048000,
      "rowLimit": 10000
     },
     "inputWidgets": {},
     "nuid": "975b6382-e030-44f1-bb3f-434229acc8fd",
     "showTitle": false,
     "tableResultSettingsMap": {},
     "title": ""
    }
   },
   "outputs": [],
   "source": [
    "%run ../01_includes/04_include_core_modules"
   ]
  },
  {
   "cell_type": "code",
   "execution_count": 0,
   "metadata": {
    "application/vnd.databricks.v1+cell": {
     "cellMetadata": {
      "byteLimit": 2048000,
      "rowLimit": 10000
     },
     "inputWidgets": {},
     "nuid": "96b90c00-7382-4aba-a367-3b92ebc3a17c",
     "showTitle": false,
     "tableResultSettingsMap": {},
     "title": ""
    }
   },
   "outputs": [],
   "source": [
    "# -----------------------------------------\n",
    "# Orchestration\n",
    "# -----------------------------------------\n",
    "\n",
    "# Initialize logger\n",
    "logger = init_logger(name=\"bronze_customer_logger\", level=logging.INFO, log_to_file=True, log_dir=LOG_DIR)\n",
    "logger.info(\"Logger initialized successfully.\")\n",
    "\n",
    "try:\n",
    "    logger.info(f\"{JOB_NAME} - Starting Bronze load pipeline\")\n",
    "    \n",
    "    cust_df = read_data(SOURCE_PATH, FILE_FORMAT)\n",
    "    cust_df_final = enrich_data(cust_df)\n",
    "    write_to_table(cust_df_final, TARGET_TABLE, WRITE_MODE)\n",
    "\n",
    "    logger.info(f\"{JOB_NAME} - Completed successfully\")\n",
    "\n",
    "except Exception as job_exception:\n",
    "    print(f\"{JOB_NAME} - Pipeline failed: {str(job_exception)}\")\n",
    "    print(traceback.format_exc())  # full traceback\n",
    "\n",
    "    logger.error(f\"{JOB_NAME} - Pipeline failed: {str(job_exception)}\")\n",
    "    logger.error(traceback.format_exc())  # full traceback\n",
    "    raise\n"
   ]
  },
  {
   "cell_type": "code",
   "execution_count": 0,
   "metadata": {
    "application/vnd.databricks.v1+cell": {
     "cellMetadata": {
      "byteLimit": 2048000,
      "rowLimit": 10000
     },
     "inputWidgets": {},
     "nuid": "2a16a4db-a152-4cbc-8631-d8981f97160a",
     "showTitle": false,
     "tableResultSettingsMap": {},
     "title": ""
    }
   },
   "outputs": [],
   "source": [
    "display(spark.table(\"adf_adb_bronze.bronze.customer\"))"
   ]
  }
 ],
 "metadata": {
  "application/vnd.databricks.v1+notebook": {
   "computePreferences": null,
   "dashboards": [],
   "environmentMetadata": {
    "base_environment": "",
    "environment_version": "2"
   },
   "inputWidgetPreferences": null,
   "language": "python",
   "notebookMetadata": {
    "mostRecentlyExecutedCommandWithImplicitDF": {
     "commandId": 7603229163715079,
     "dataframes": [
      "_sqldf"
     ]
    },
    "pythonIndentUnit": 4
   },
   "notebookName": "adb_nbk_ext_customer_json_01",
   "widgets": {
    "enable_enrichment": {
     "currentValue": "true",
     "nuid": "ecb1ee0e-b998-4831-8c96-c6909630e821",
     "typedWidgetInfo": {
      "autoCreated": false,
      "defaultValue": "true",
      "label": null,
      "name": "enable_enrichment",
      "options": {
       "widgetDisplayType": "Text",
       "validationRegex": null
      },
      "parameterDataType": "String"
     },
     "widgetInfo": {
      "widgetType": "text",
      "defaultValue": "true",
      "label": null,
      "name": "enable_enrichment",
      "options": {
       "widgetType": "text",
       "autoCreated": null,
       "validationRegex": null
      }
     }
    },
    "file_format": {
     "currentValue": "json",
     "nuid": "c9a96430-238a-4ad2-8331-0fe613cc6b1d",
     "typedWidgetInfo": {
      "autoCreated": false,
      "defaultValue": "json",
      "label": null,
      "name": "file_format",
      "options": {
       "widgetDisplayType": "Text",
       "validationRegex": null
      },
      "parameterDataType": "String"
     },
     "widgetInfo": {
      "widgetType": "text",
      "defaultValue": "json",
      "label": null,
      "name": "file_format",
      "options": {
       "widgetType": "text",
       "autoCreated": null,
       "validationRegex": null
      }
     }
    },
    "job_name": {
     "currentValue": "adb_nbk_ext_customer_json_01",
     "nuid": "def5b82d-a2cc-49ae-81f7-3a10451e2d3d",
     "typedWidgetInfo": {
      "autoCreated": false,
      "defaultValue": "adb_nbk_ext_customer_json_01",
      "label": null,
      "name": "job_name",
      "options": {
       "widgetDisplayType": "Text",
       "validationRegex": null
      },
      "parameterDataType": "String"
     },
     "widgetInfo": {
      "widgetType": "text",
      "defaultValue": "adb_nbk_ext_customer_json_01",
      "label": null,
      "name": "job_name",
      "options": {
       "widgetType": "text",
       "autoCreated": null,
       "validationRegex": null
      }
     }
    },
    "log_dir": {
     "currentValue": "/Volumes/adf_adb_logs/bronze_logs/operational_logs",
     "nuid": "09b61086-8087-4cb7-b050-aaea1f1ba887",
     "typedWidgetInfo": {
      "autoCreated": false,
      "defaultValue": "/Volumes/adf_adb_logs/bronze_logs/operational_logs",
      "label": null,
      "name": "log_dir",
      "options": {
       "widgetDisplayType": "Text",
       "validationRegex": null
      },
      "parameterDataType": "String"
     },
     "widgetInfo": {
      "widgetType": "text",
      "defaultValue": "/Volumes/adf_adb_logs/bronze_logs/operational_logs",
      "label": null,
      "name": "log_dir",
      "options": {
       "widgetType": "text",
       "autoCreated": null,
       "validationRegex": null
      }
     }
    },
    "source_path": {
     "currentValue": "/Volumes/adf_adb_landing/landing/operational_data/customer/",
     "nuid": "38c46564-9d42-4db7-ac99-6d4858790c89",
     "typedWidgetInfo": {
      "autoCreated": false,
      "defaultValue": "/Volumes/adf_adb_landing/landing/operational_data/customer/",
      "label": null,
      "name": "source_path",
      "options": {
       "widgetDisplayType": "Text",
       "validationRegex": null
      },
      "parameterDataType": "String"
     },
     "widgetInfo": {
      "widgetType": "text",
      "defaultValue": "/Volumes/adf_adb_landing/landing/operational_data/customer/",
      "label": null,
      "name": "source_path",
      "options": {
       "widgetType": "text",
       "autoCreated": null,
       "validationRegex": null
      }
     }
    },
    "target_table": {
     "currentValue": "adf_adb_bronze.bronze.customer",
     "nuid": "2af9fb20-ed52-453a-b749-3fc64f379e2e",
     "typedWidgetInfo": {
      "autoCreated": false,
      "defaultValue": "adf_adb_bronze.bronze.customer",
      "label": null,
      "name": "target_table",
      "options": {
       "widgetDisplayType": "Text",
       "validationRegex": null
      },
      "parameterDataType": "String"
     },
     "widgetInfo": {
      "widgetType": "text",
      "defaultValue": "adf_adb_bronze.bronze.customer",
      "label": null,
      "name": "target_table",
      "options": {
       "widgetType": "text",
       "autoCreated": null,
       "validationRegex": null
      }
     }
    },
    "write_mode": {
     "currentValue": "overwrite",
     "nuid": "4d88823a-dcff-486a-a102-8ea31b4e53f5",
     "typedWidgetInfo": {
      "autoCreated": false,
      "defaultValue": "overwrite",
      "label": null,
      "name": "write_mode",
      "options": {
       "widgetDisplayType": "Text",
       "validationRegex": null
      },
      "parameterDataType": "String"
     },
     "widgetInfo": {
      "widgetType": "text",
      "defaultValue": "overwrite",
      "label": null,
      "name": "write_mode",
      "options": {
       "widgetType": "text",
       "autoCreated": null,
       "validationRegex": null
      }
     }
    }
   }
  },
  "language_info": {
   "name": "python"
  }
 },
 "nbformat": 4,
 "nbformat_minor": 0
}
