{
 "cells": [
  {
   "cell_type": "code",
   "execution_count": 0,
   "metadata": {
    "application/vnd.databricks.v1+cell": {
     "cellMetadata": {
      "byteLimit": 2048000,
      "rowLimit": 10000
     },
     "inputWidgets": {},
     "nuid": "c808a93f-6e53-4332-bc75-ed471f532671",
     "showTitle": false,
     "tableResultSettingsMap": {},
     "title": ""
    }
   },
   "outputs": [],
   "source": [
    "from pyspark.sql.functions import current_timestamp, col\n",
    "import traceback\n",
    "\n",
    "# -----------------------------------------\n",
    "# Function to Add Audit fields\n",
    "# -----------------------------------------\n",
    "\n",
    "def enrich_data(df):\n",
    "    try:\n",
    "        enriched_df = df.withColumn(\"Created_Timestamp\", current_timestamp()) \\\n",
    "                        .withColumn(\"FileName\", col(\"_metadata.file_path\"))\n",
    "        logger.info(f\"{JOB_NAME} - Enrichment completed with new Audit columns: Created_Timestamp, FileName\")\n",
    "        return enriched_df\n",
    "    except Exception as e:\n",
    "        logger.error(f\"{JOB_NAME} - Failed during enrichment stage\")\n",
    "        logger.error(f\"{JOB_NAME} - Exception: {str(e)}\")\n",
    "        logger.error(traceback.format_exc())  # full traceback\n",
    "        raise RuntimeError(f\"{JOB_NAME} - Enrichment failed\") from e\n"
   ]
  }
 ],
 "metadata": {
  "application/vnd.databricks.v1+notebook": {
   "computePreferences": null,
   "dashboards": [],
   "environmentMetadata": {
    "base_environment": "",
    "environment_version": "2"
   },
   "inputWidgetPreferences": null,
   "language": "python",
   "notebookMetadata": {
    "pythonIndentUnit": 4
   },
   "notebookName": "02_audit_enricher",
   "widgets": {}
  },
  "language_info": {
   "name": "python"
  }
 },
 "nbformat": 4,
 "nbformat_minor": 0
}
