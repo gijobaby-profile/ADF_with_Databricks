{
 "cells": [
  {
   "cell_type": "code",
   "execution_count": 0,
   "metadata": {
    "application/vnd.databricks.v1+cell": {
     "cellMetadata": {
      "byteLimit": 2048000,
      "rowLimit": 10000
     },
     "inputWidgets": {},
     "nuid": "bd446894-d518-48a6-9edb-0e42dcca9553",
     "showTitle": false,
     "tableResultSettingsMap": {},
     "title": ""
    }
   },
   "outputs": [],
   "source": [
    "\n",
    "# -------------------------------------------\n",
    "# Incremental Reader (Auto Loader)\n",
    "# -------------------------------------------\n",
    "import traceback\n",
    "\n",
    "def read_incremental_data(path: str, file_format: str, schema_evolution_mode: str, job_name: str, logger):\n",
    "    try:\n",
    "        schema_path = f\"{path}/_schema\"\n",
    "        logger.info(f\"{job_name} - Auto Loader init: path={path}, file_format={file_format}, schema_path={schema_path}, schema_evolution_mode={schema_evolution_mode}\")\n",
    "        df = (spark.readStream\n",
    "                    .format(\"cloudFiles\")\n",
    "                    .option(\"cloudFiles.format\", file_format)\n",
    "                    .option(\"cloudFiles.schemaLocation\", schema_path)\n",
    "                    .option(\"cloudFiles.inferColumnTypes\", \"true\")\n",
    "                    .option(\"cloudFiles.schemaEvolutionMode\", schema_evolution_mode)\n",
    "                    .load(path))\n",
    "        logger.info(f\"{job_name} - Auto Loader stream created.\")\n",
    "        logger.info(f\"{job_name} - Schema: {df.schema.simpleString()}\")\n",
    "        return df\n",
    "    except Exception as e:\n",
    "        logger.error(f\"{job_name} - Auto Loader read failed: {e}\")\n",
    "        logger.error(traceback.format_exc())\n",
    "        raise\n"
   ]
  }
 ],
 "metadata": {
  "application/vnd.databricks.v1+notebook": {
   "computePreferences": null,
   "dashboards": [],
   "environmentMetadata": {
    "base_environment": "",
    "environment_version": "2"
   },
   "inputWidgetPreferences": null,
   "language": "python",
   "notebookMetadata": {
    "pythonIndentUnit": 4
   },
   "notebookName": "11_incremental_file_reader",
   "widgets": {}
  },
  "language_info": {
   "name": "python"
  }
 },
 "nbformat": 4,
 "nbformat_minor": 0
}
