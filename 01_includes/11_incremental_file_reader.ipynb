{
 "cells": [
  {
   "cell_type": "code",
   "execution_count": 0,
   "metadata": {
    "application/vnd.databricks.v1+cell": {
     "cellMetadata": {
      "byteLimit": 2048000,
      "rowLimit": 10000
     },
     "inputWidgets": {},
     "nuid": "bd446894-d518-48a6-9edb-0e42dcca9553",
     "showTitle": false,
     "tableResultSettingsMap": {},
     "title": ""
    }
   },
   "outputs": [],
   "source": [
    "import traceback\n",
    "from pyspark.sql.functions import current_timestamp, input_file_name\n",
    "\n",
    "# -----------------------------------------\n",
    "# Function to read data using Auto Loader (incremental)\n",
    "# -----------------------------------------\n",
    "def read_incremental_data(path: str, fmt: str):\n",
    "    try:\n",
    "        logger.info(f\"{JOB_NAME} - Initializing Auto Loader from path: {path}\")\n",
    "        schema_path = f\"{SOURCE_PATH}/_schema\"\n",
    "\n",
    "        # Auto Loader Stream\n",
    "        df = (\n",
    "            spark.readStream\n",
    "                 .format(\"cloudFiles\")\n",
    "                 .option(\"cloudFiles.format\", fmt)\n",
    "                 .option(\"cloudFiles.schemaLocation\", schema_path)\n",
    "                 .option(\"cloudFiles.inferColumnTypes\", \"true\")\n",
    "                 .option(\"cloudFiles.schemaEvolutionMode\", SCHEMA_EVOLUTION_MODE)\n",
    "                 .load(path)\n",
    "                # .withColumn(\"Ingested_Timestamp\", current_timestamp())\n",
    "                # .withColumn(\"FileName\", col(\"_metadata.file_path\"))\n",
    "        )\n",
    "\n",
    "        logger.info(f\"{JOB_NAME} - Auto Loader stream read initialized successfully\")\n",
    "\n",
    "        return df\n",
    "\n",
    "    except Exception as e:\n",
    "        print(f\"{JOB_NAME} - Failed to read from path using Auto Loader: {path}\")\n",
    "        print(traceback.format_exc())\n",
    "        logger.error(f\"{JOB_NAME} - Failed to read from path using Auto Loader: {path}\")\n",
    "        logger.error(traceback.format_exc())\n",
    "        raise RuntimeError(f\"{JOB_NAME} - Auto Loader Read failed\") from e\n"
   ]
  }
 ],
 "metadata": {
  "application/vnd.databricks.v1+notebook": {
   "computePreferences": null,
   "dashboards": [],
   "environmentMetadata": {
    "base_environment": "",
    "environment_version": "2"
   },
   "inputWidgetPreferences": null,
   "language": "python",
   "notebookMetadata": {
    "pythonIndentUnit": 4
   },
   "notebookName": "11_incremental_file_reader",
   "widgets": {}
  },
  "language_info": {
   "name": "python"
  }
 },
 "nbformat": 4,
 "nbformat_minor": 0
}
