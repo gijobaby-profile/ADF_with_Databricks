{
 "cells": [
  {
   "cell_type": "code",
   "execution_count": 0,
   "metadata": {
    "application/vnd.databricks.v1+cell": {
     "cellMetadata": {
      "byteLimit": 2048000,
      "rowLimit": 10000
     },
     "inputWidgets": {},
     "nuid": "11ff778f-3e82-4e19-b669-99b57263f7fa",
     "showTitle": false,
     "tableResultSettingsMap": {},
     "title": ""
    }
   },
   "outputs": [],
   "source": [
    "#-------------------------------------------\n",
    "# Logger module setup\n",
    "#-------------------------------------------\n",
    "\n",
    "import logging\n",
    "import sys\n",
    "import os\n",
    "from datetime import datetime\n",
    "\n",
    "# Fetch config values passed from parent notebook\n",
    "name = globals().get(\"logger_name\", \"databricks_logger\")\n",
    "level = globals().get(\"logger_level\", logging.INFO)\n",
    "log_to_file = globals().get(\"log_to_file\", True)\n",
    "log_dir = globals().get(\"log_dir\", \"/tmp/dbfs_logs\")  # fallback if not passed\n",
    "\n",
    "def init_logger(name=name, level=level, log_to_file=log_to_file, log_dir=log_dir):\n",
    "\n",
    "    logger = logging.getLogger(name)\n",
    "    logger.setLevel(level)\n",
    "\n",
    "    # Clear existing handlers to avoid silent logging\n",
    "    if logger.hasHandlers():\n",
    "        logger.handlers.clear()\n",
    "\n",
    "    # Console Handler (Databricks notebook output)\n",
    "    console_handler = logging.StreamHandler(sys.stdout)\n",
    "    console_handler.setLevel(level)\n",
    "    console_format = logging.Formatter('%(asctime)s - %(levelname)s - %(message)s')\n",
    "    console_handler.setFormatter(console_format)\n",
    "    logger.addHandler(console_handler)\n",
    "\n",
    "    # Optional: File Handler (to DBFS)\n",
    "    if log_to_file:\n",
    "        os.makedirs(log_dir, exist_ok=True)\n",
    "        current_time = datetime.now().strftime(\"%Y%m%d_%H%M%S\")\n",
    "        log_file = os.path.join(log_dir, f\"{name}_{current_time}.log\")\n",
    "\n",
    "        file_handler = logging.FileHandler(log_file)\n",
    "        file_handler.setLevel(level)\n",
    "        file_format = logging.Formatter('%(asctime)s - %(levelname)s - %(message)s')\n",
    "        file_handler.setFormatter(file_format)\n",
    "        logger.addHandler(file_handler)\n",
    "\n",
    "        # Log to both handlers\n",
    "        logger.info(f\"Logging to file: {log_file}\")\n",
    "\n",
    "    return logger\n"
   ]
  }
 ],
 "metadata": {
  "application/vnd.databricks.v1+notebook": {
   "computePreferences": null,
   "dashboards": [],
   "environmentMetadata": {
    "base_environment": "",
    "environment_version": "2"
   },
   "inputWidgetPreferences": null,
   "language": "python",
   "notebookMetadata": {
    "pythonIndentUnit": 4
   },
   "notebookName": "00_logger_config",
   "widgets": {}
  },
  "language_info": {
   "name": "python"
  }
 },
 "nbformat": 4,
 "nbformat_minor": 0
}
