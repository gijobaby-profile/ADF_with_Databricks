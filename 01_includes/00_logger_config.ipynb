{
 "cells": [
  {
   "cell_type": "code",
   "execution_count": 0,
   "metadata": {
    "application/vnd.databricks.v1+cell": {
     "cellMetadata": {
      "byteLimit": 2048000,
      "rowLimit": 10000
     },
     "inputWidgets": {},
     "nuid": "11ff778f-3e82-4e19-b669-99b57263f7fa",
     "showTitle": false,
     "tableResultSettingsMap": {},
     "title": ""
    }
   },
   "outputs": [],
   "source": [
    "# -------------------------------------------\n",
    "# Simple Logger\n",
    "# -------------------------------------------\n",
    "import logging, sys, os\n",
    "from datetime import datetime\n",
    "\n",
    "def get_logger(name: str, log_dir: str) -> logging.Logger:\n",
    "    \"\"\"\n",
    "    Create a simple logger that logs to console and a rotating timestamped file.\n",
    "    No globals, no widgets, no surprises.\n",
    "    \"\"\"\n",
    "    logger = logging.getLogger(name)\n",
    "    logger.setLevel(logging.INFO)\n",
    "    # Clear existing handlers to avoid duplicates in notebooks\n",
    "    for h in list(logger.handlers):\n",
    "        logger.removeHandler(h)\n",
    "        try:\n",
    "            h.close()\n",
    "        except Exception:\n",
    "            pass\n",
    "\n",
    "    fmt = logging.Formatter(\"%(asctime)s - %(levelname)s - %(name)s - %(message)s\")\n",
    "    ch = logging.StreamHandler(sys.stdout)\n",
    "    ch.setFormatter(fmt)\n",
    "    ch.setLevel(logging.INFO)\n",
    "    logger.addHandler(ch)\n",
    "\n",
    "    os.makedirs(log_dir, exist_ok=True)\n",
    "    ts = datetime.now().strftime(\"%Y%m%d_%H%M%S\")\n",
    "    fh = logging.FileHandler(os.path.join(log_dir, f\"{name}_{ts}.log\"))\n",
    "    fh.setFormatter(fmt)\n",
    "    fh.setLevel(logging.INFO)\n",
    "    logger.addHandler(fh)\n",
    "\n",
    "    logger.propagate = False\n",
    "    logger.info(f\"Logging to file: {os.path.join(log_dir, f'{name}_{ts}.log')}\")\n",
    "    return logger\n",
    "\n",
    "def close_logger(logger: logging.Logger):\n",
    "    for h in list(logger.handlers):\n",
    "        try:\n",
    "            h.flush()\n",
    "            h.close()\n",
    "        except Exception:\n",
    "            pass\n",
    "        finally:\n",
    "            logger.removeHandler(h)\n"
   ]
  }
 ],
 "metadata": {
  "application/vnd.databricks.v1+notebook": {
   "computePreferences": null,
   "dashboards": [],
   "environmentMetadata": {
    "base_environment": "",
    "environment_version": "2"
   },
   "inputWidgetPreferences": null,
   "language": "python",
   "notebookMetadata": {
    "pythonIndentUnit": 4
   },
   "notebookName": "00_logger_config",
   "widgets": {}
  },
  "language_info": {
   "name": "python"
  }
 },
 "nbformat": 4,
 "nbformat_minor": 0
}
