{
 "cells": [
  {
   "cell_type": "markdown",
   "metadata": {
    "application/vnd.databricks.v1+cell": {
     "cellMetadata": {
      "byteLimit": 2048000,
      "rowLimit": 10000
     },
     "inputWidgets": {},
     "nuid": "de07201f-c95a-4d06-862e-4b6714713fa5",
     "showTitle": false,
     "tableResultSettingsMap": {},
     "title": ""
    }
   },
   "source": [
    "#### Logger module setup"
   ]
  },
  {
   "cell_type": "code",
   "execution_count": 0,
   "metadata": {
    "application/vnd.databricks.v1+cell": {
     "cellMetadata": {
      "byteLimit": 2048000,
      "rowLimit": 10000
     },
     "inputWidgets": {},
     "nuid": "11ff778f-3e82-4e19-b669-99b57263f7fa",
     "showTitle": false,
     "tableResultSettingsMap": {},
     "title": ""
    }
   },
   "outputs": [],
   "source": [
    "import logging\n",
    "import sys\n",
    "import os\n",
    "from datetime import datetime\n",
    "\n",
    "def init_logger(name=\"databricks_logger\", level=logging.INFO, log_to_file=True, log_dir=\"/dbfs/tmp/logs\"):\n",
    "    \"\"\"\n",
    "    Initialize a corporate-grade logger.\n",
    "    \n",
    "    Parameters:\n",
    "    - name (str): Name of the logger.\n",
    "    - level (logging.LEVEL): Logging level (DEBUG, INFO, etc.)\n",
    "    - log_to_file (bool): Whether to log to DBFS file system\n",
    "    - log_dir (str): Directory to store log files if log_to_file is True\n",
    "    \"\"\"\n",
    "\n",
    "    logger = logging.getLogger(name)\n",
    "    logger.setLevel(level)\n",
    "\n",
    "    # Avoid duplicate handlers\n",
    "    if not logger.handlers:\n",
    "\n",
    "        # Console handler (visible in Databricks output)\n",
    "        console_handler = logging.StreamHandler(sys.stdout)\n",
    "        console_handler.setLevel(level)\n",
    "        console_format = logging.Formatter('%(asctime)s - %(levelname)s - %(message)s')\n",
    "        console_handler.setFormatter(console_format)\n",
    "        logger.addHandler(console_handler)\n",
    "\n",
    "        # Optional: File handler (logs to DBFS)\n",
    "        if log_to_file:\n",
    "            # Create log directory if it doesn't exist\n",
    "            os.makedirs(log_dir, exist_ok=True)\n",
    "            current_time = datetime.now().strftime(\"%Y%m%d_%H%M%S\")\n",
    "            log_file = os.path.join(log_dir, f\"{name}_{current_time}.log\")\n",
    "\n",
    "            file_handler = logging.FileHandler(log_file)\n",
    "            file_handler.setLevel(level)\n",
    "            file_format = logging.Formatter('%(asctime)s - %(levelname)s - %(message)s')\n",
    "            file_handler.setFormatter(file_format)\n",
    "            logger.addHandler(file_handler)\n",
    "\n",
    "            logger.info(f\"Logging to file: {log_file}\")\n",
    "\n",
    "    return logger\n",
    "\n"
   ]
  }
 ],
 "metadata": {
  "application/vnd.databricks.v1+notebook": {
   "computePreferences": null,
   "dashboards": [],
   "environmentMetadata": {
    "base_environment": "",
    "environment_version": "2"
   },
   "inputWidgetPreferences": null,
   "language": "python",
   "notebookMetadata": {
    "pythonIndentUnit": 4
   },
   "notebookName": "00_logger_config",
   "widgets": {}
  },
  "language_info": {
   "name": "python"
  }
 },
 "nbformat": 4,
 "nbformat_minor": 0
}
