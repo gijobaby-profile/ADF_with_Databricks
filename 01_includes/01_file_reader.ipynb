{
 "cells": [
  {
   "cell_type": "code",
   "execution_count": 0,
   "metadata": {
    "application/vnd.databricks.v1+cell": {
     "cellMetadata": {
      "byteLimit": 2048000,
      "rowLimit": 10000
     },
     "inputWidgets": {},
     "nuid": "696493cc-e721-4c25-84c6-08ea6eaf068b",
     "showTitle": false,
     "tableResultSettingsMap": {},
     "title": ""
    }
   },
   "outputs": [],
   "source": [
    "import traceback\n",
    "\n",
    "# -----------------------------------------\n",
    "# Function to read data with safety checks\n",
    "# -----------------------------------------\n",
    "def read_data(path: str, fmt: str):\n",
    "    try:\n",
    "        df = spark.read.format(fmt).load(path)\n",
    "        if len(df.take(1)) == 0: # This is to check the dataframe is empty or not\n",
    "        #if df.rdd.isEmpty():\n",
    "            logger.warning(f\"{JOB_NAME} - Source data is empty at: {path}\")\n",
    "        else:\n",
    "            logger.info(f\"{JOB_NAME} - Read successful from path: {path}\")\n",
    "            logger.info(f\"{JOB_NAME} - Row count: {df.count():,}\")\n",
    "        return df\n",
    "    except Exception as e:\n",
    "        print(f\"{JOB_NAME} - Failed to read from path: {path}\")\n",
    "        print(traceback.format_exc())  # full traceback\n",
    "        logger.error(f\"{JOB_NAME} - Failed to read from path: {path}\")\n",
    "        logger.error(traceback.format_exc())  # full traceback\n",
    "        raise RuntimeError(f\"{JOB_NAME} - Read failed\") from e\n"
   ]
  }
 ],
 "metadata": {
  "application/vnd.databricks.v1+notebook": {
   "computePreferences": null,
   "dashboards": [],
   "environmentMetadata": {
    "base_environment": "",
    "environment_version": "2"
   },
   "inputWidgetPreferences": null,
   "language": "python",
   "notebookMetadata": {
    "pythonIndentUnit": 4
   },
   "notebookName": "01_file_reader",
   "widgets": {}
  },
  "language_info": {
   "name": "python"
  }
 },
 "nbformat": 4,
 "nbformat_minor": 0
}
