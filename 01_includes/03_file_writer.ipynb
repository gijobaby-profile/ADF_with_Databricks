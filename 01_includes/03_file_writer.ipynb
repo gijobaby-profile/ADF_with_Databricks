{
 "cells": [
  {
   "cell_type": "code",
   "execution_count": 0,
   "metadata": {
    "application/vnd.databricks.v1+cell": {
     "cellMetadata": {
      "byteLimit": 2048000,
      "rowLimit": 10000
     },
     "inputWidgets": {},
     "nuid": "1696e019-1d69-4c17-be62-2d0acb1159e1",
     "showTitle": false,
     "tableResultSettingsMap": {},
     "title": ""
    }
   },
   "outputs": [],
   "source": [
    "from pyspark.sql.utils import AnalysisException\n",
    "import traceback\n",
    "\n",
    "# -----------------------------------------\n",
    "# Function to write data\n",
    "# -----------------------------------------\n",
    "def write_to_table(df, table_name, mode):\n",
    "    try:\n",
    "        row_count = df.count()\n",
    "        if row_count == 0:\n",
    "            logger.warning(f\"{JOB_NAME} - No data to write to table: {table_name}\")\n",
    "            return\n",
    "        \n",
    "        df.write.format(\"delta\") \\\n",
    "            .mode(mode) \\\n",
    "            .saveAsTable(table_name)\n",
    "\n",
    "        logger.info(f\"{JOB_NAME} - Write successful to table: {table_name}\")\n",
    "        logger.info(f\"{JOB_NAME} - Rows written: {row_count:,}\")\n",
    "\n",
    "    except AnalysisException as ae:\n",
    "        logger.error(f\"{JOB_NAME} - Table write failed due to analysis error\")\n",
    "        logger.error(f\"{JOB_NAME} - {str(ae)}\")\n",
    "        logger.error(traceback.format_exc())  # full traceback\n",
    "        raise RuntimeError(f\"{JOB_NAME} - Analysis failure writing to {table_name}\") from ae\n",
    "\n",
    "    except Exception as e:\n",
    "        logger.error(f\"{JOB_NAME} - General failure during write to table: {table_name}\")\n",
    "        logger.error(f\"{JOB_NAME} - Exception: {str(e)}\")\n",
    "        logger.error(traceback.format_exc())  # full traceback\n",
    "        raise RuntimeError(f\"{JOB_NAME} - Write failed to {table_name}\") from e\n"
   ]
  }
 ],
 "metadata": {
  "application/vnd.databricks.v1+notebook": {
   "computePreferences": null,
   "dashboards": [],
   "environmentMetadata": {
    "base_environment": "",
    "environment_version": "2"
   },
   "inputWidgetPreferences": null,
   "language": "python",
   "notebookMetadata": {
    "pythonIndentUnit": 4
   },
   "notebookName": "03_file_writer",
   "widgets": {}
  },
  "language_info": {
   "name": "python"
  }
 },
 "nbformat": 4,
 "nbformat_minor": 0
}
